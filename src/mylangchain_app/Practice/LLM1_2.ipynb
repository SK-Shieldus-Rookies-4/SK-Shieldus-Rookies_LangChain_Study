{
 "cells": [
  {
   "cell_type": "code",
   "execution_count": 1,
   "id": "b7db2634",
   "metadata": {},
   "outputs": [
    {
     "name": "stderr",
     "output_type": "stream",
     "text": [
      "/var/folders/ss/4gd1xpgn60n2x9960_jc16y00000gn/T/ipykernel_63005/2957458923.py:14: LangChainDeprecationWarning: The class `ChatOpenAI` was deprecated in LangChain 0.0.10 and will be removed in 1.0. An updated version of the class exists in the :class:`~langchain-openai package and should be used instead. To use it run `pip install -U :class:`~langchain-openai` and import as `from :class:`~langchain_openai import ChatOpenAI``.\n",
      "  llm = ChatOpenAI(\n"
     ]
    },
    {
     "name": "stdout",
     "output_type": "stream",
     "text": [
      "1단계 결과: 콜로세움\n",
      "2단계 결과: 콜로세움은 이탈리아 로마에 위치한 세계에서 가장 유명한 고대 건축물 중 하나입니다. 로마 제국의 황제 베스파시아ンが 기원후 72년에 착공하여 그의 아들 티투스가 80년에 완공한 이 건축물은 당시 로마의 엔터테인먼트와 권력을 상징하는 공간으로 사용되었습니다.\n",
      "\n",
      "### 역사\n",
      "콜로세움은 로마 제국의 엔터테인먼트와 권력을 상징하는 공간으로 사용되었습니다. 이곳에서는 검투사 경기, 동물 사냥, 해상 전투 재현 등 다양한 행사가 열렸습니다. 콜로세움은 로마 제국의 황제 베스파시아ンが 기원후 72년에 착공하여 그의 아들 티투스가 80년에 완공한 이 건축물은 당시 로마의 엔터테인먼트와 권력을 상징하는 공간으로 사용되었습니다.\n",
      "\n",
      "### 특징\n",
      "콜로세움은 타원형의 건축물로, 길이는 약 189m, 너비는 약 156m, 높이는 약 48m입니다. 콜로세움은 4층으로 구성되어 있으며, 각 층에는 아치형의 창문과 기둥이 있습니다. 콜로세움의 내부에는 80개의 입구가 있으며, 각 입구에는 계단이 있습니다. 콜로세움의 좌석은 5만 명 이상을 수용할 수 있습니다.\n",
      "\n",
      "### 방문 팁\n",
      "콜로세움을 방문할 때는 몇 가지 팁을 기억하는 것이 좋습니다. 첫째, 콜로세움은 야간에도 개방되어 있으므로 야경을 감상할 수 있습니다. 둘째, 콜로세움 내부 투어를 예약하는 것이 좋습니다. 내부 투어를 통해 콜로세움의 역사와 건축에 대해 더 자세히 배울 수 있습니다. 셋째, 콜로세움 주변에는 많은 관광지가 있으므로 주변 관광을 계획하는 것도 좋습니다. 넷째, 콜로세움은 인기 있는 관광지이므로 미리 티켓을 예약하는 것이 좋습니다.\n"
     ]
    }
   ],
   "source": [
    "from dotenv import load_dotenv\n",
    "import os\n",
    "from langchain.chat_models import ChatOpenAI\n",
    "from langchain.prompts import ChatPromptTemplate\n",
    "from langchain_core.output_parsers import StrOutputParser\n",
    "from langchain_core.runnables import RunnablePassthrough\n",
    "\n",
    "# .env 파일을 불러와서 환경 변수로 설정\n",
    "load_dotenv()\n",
    "\n",
    "OPENAI_API_KEY = os.getenv(\"OPENAI_API_KEY\")\n",
    "\n",
    "# 모델 초기화\n",
    "llm = ChatOpenAI(\n",
    "    api_key=OPENAI_API_KEY,\n",
    "    base_url=\"https://api.groq.com/openai/v1\",  # Groq API 엔드포인트\n",
    "    model=\"meta-llama/llama-4-scout-17b-16e-instruct\",  # 원하는 모델 사용\n",
    "    temperature=0.7\n",
    ")\n",
    "\n",
    "# 1단계 체인: 여행지 -> 대표 명소 추천\n",
    "# ChatPromptTemplate 사용 (system과 user 메시지 지정)\n",
    "prompt1 = ChatPromptTemplate.from_messages([\n",
    "    (\"system\", \"입력받은 여행지에서 가장 대표적인 관광 명소 딱 한 가지만 추천해 주세요. 명소 이름만 간단하게 답변해 주세요.\"),\n",
    "    (\"user\", \"{location}\")\n",
    "])\n",
    "\n",
    "# 1단계 체인 구성\n",
    "chain1 = prompt1 | llm | StrOutputParser()\n",
    "\n",
    "# 2단계 체인: 명소 -> 상세 정보 제공\n",
    "# 명소 이름을 입력으로 받아 상세 정보를 생성\n",
    "prompt2 = ChatPromptTemplate.from_messages([\n",
    "    (\"system\", \"사용자가 입력한 관광 명소에 대해 자세히 설명해 주세요. 역사, 특징, 방문 팁을 구분해서 작성해 주세요.\"),\n",
    "    (\"user\", \"{attraction_name}\")\n",
    "])\n",
    "\n",
    "# 2단계 체인 구성\n",
    "chain2 = prompt2 | llm | StrOutputParser()\n",
    "\n",
    "# 두 체인 연결\n",
    "# RunnablePassthrough를 사용해 원래의 입력(location)을 유지하면서 1단계 체인의 출력(attraction_name)을 2단계 체인에 전달\n",
    "full_chain = {\"attraction_name\": chain1, \"location\": RunnablePassthrough()} | chain2\n",
    "\n",
    "# 실행\n",
    "location = \"로마\"\n",
    "\n",
    "# 1단계 체인만 실행하여 결과 확인\n",
    "attraction = chain1.invoke({\"location\": location})\n",
    "print(f\"1단계 결과: {attraction}\")\n",
    "\n",
    "# 전체 체인 실행\n",
    "result = full_chain.invoke({\"location\": location})\n",
    "print(f\"2단계 결과: {result}\")"
   ]
  }
 ],
 "metadata": {
  "kernelspec": {
   "display_name": "mylangchain-app-75wTJiYg-py3.13",
   "language": "python",
   "name": "python3"
  },
  "language_info": {
   "codemirror_mode": {
    "name": "ipython",
    "version": 3
   },
   "file_extension": ".py",
   "mimetype": "text/x-python",
   "name": "python",
   "nbconvert_exporter": "python",
   "pygments_lexer": "ipython3",
   "version": "3.13.5"
  }
 },
 "nbformat": 4,
 "nbformat_minor": 5
}
