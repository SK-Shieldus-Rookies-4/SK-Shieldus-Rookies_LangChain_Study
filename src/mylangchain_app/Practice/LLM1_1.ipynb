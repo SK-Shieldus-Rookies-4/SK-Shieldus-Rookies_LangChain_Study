{
 "cells": [
  {
   "cell_type": "code",
   "execution_count": null,
   "id": "075f42a3",
   "metadata": {},
   "outputs": [
    {
     "name": "stdout",
     "output_type": "stream",
     "text": [
      "### **김치볶음밥**\n",
      "\n",
      "김치볶음밥은 한국에서 흔히 즐기는 음식입니다. 이 요리는 밥, 김치, 그리고 계란을 사용하여 만들 수 있습니다. \n",
      "\n",
      "#### **조리법**\n",
      "\n",
      "1. **준비물**: \n",
      "   - 밥 (햇밥이 아닌 묵은밥이 적합)\n",
      "   - 김치 (잘게 썬 김치)\n",
      "   - 계란 \n",
      "   - 참기름, 소금, 후추\n",
      "\n",
      "2. **과정**: \n",
      "   - 김치를 잘게 썰어 준비합니다.\n",
      "   - 팬에 기름을 두르고 썬 김치를 넣고 볶습니다. 김치가 적당히 볶아지면 따로 덜어둡니다.\n",
      "   - 같은 팬에 기름을 더 두르고 계란을 풀어 넣고 잘게 다진 후, 스크램블드 에그처럼 만들어 줍니다. \n",
      "   - 계란이 익으면 볶아둔 김치를 다시 넣고 잘 섞습니다.\n",
      "   - 여기에 밥을 넣고 고루고루 볶습니다. \n",
      "   - 소금과 후추로 간을 하고 마지막에 참기름을 뿌려줍니다.\n",
      "\n",
      "#### **팁**\n",
      "- 밥은 전날 남은 밥을 사용하는 것이 좋습니다. \n",
      "- 김치는 신선하고 매운맛이 있는 것을 사용하는 것이 좋습니다.\n",
      "- 계란은 잘게 다져서 넣으면 더 맛있습니다.\n",
      "\n",
      "#### **변형된 버전**\n",
      "- 김치와 계란 외에 소시지, 새우, 또는 다양한 채소를 추가하여 더 풍부한 맛을 낼 수 있습니다.\n",
      "\n",
      "이렇게 간단한 재료로 맛있는 김치볶음밥을 만들어 보세요!\n"
     ]
    }
   ],
   "source": [
    "from dotenv import load_dotenv\n",
    "import os\n",
    "from langchain.chat_models import ChatOpenAI\n",
    "from langchain.prompts import PromptTemplate\n",
    "from langchain_core.output_parsers import StrOutputParser\n",
    "\n",
    "# .env 파일을 불러와서 환경 변수로 설정\n",
    "load_dotenv()\n",
    "\n",
    "OPENAI_API_KEY = os.getenv(\"OPENAI_API_KEY\")\n",
    "\n",
    "# 모델 초기화\n",
    "llm = ChatOpenAI(\n",
    "    api_key=OPENAI_API_KEY,\n",
    "    base_url=\"https://api.groq.com/openai/v1\",  # Groq API 엔드포인트\n",
    "    model=\"meta-llama/llama-4-scout-17b-16e-instruct\",  # 원하는 모델 사용\n",
    "    temperature=0.7\n",
    ")\n",
    "\n",
    "# PromptTemplate을 사용하여 프롬프트 작성\n",
    "prompt = PromptTemplate.from_template(\"\"\"\n",
    "사용자가 입력한 재료로 만들 수 있는 요리를 추천해 주세요.\n",
    "재료: {ingredients}\n",
    "추천 요리와 그 조리법을 알려주세요.\n",
    "\"\"\")\n",
    "\n",
    "# LCEL(|) 문법을 사용하여 체인 연결\n",
    "# PromptTemplate, ChatOpenAI 모델, StrOutputParser를 순서대로 연결\n",
    "chain = prompt | llm | StrOutputParser()\n",
    "\n",
    "# 체인 실행\n",
    "result = chain.invoke({\"ingredients\": \"계란, 밥, 김치\"})\n",
    "\n",
    "# 출력 결과\n",
    "print(result)"
   ]
  }
 ],
 "metadata": {
  "kernelspec": {
   "display_name": "mylangchain-app-75wTJiYg-py3.13",
   "language": "python",
   "name": "python3"
  },
  "language_info": {
   "codemirror_mode": {
    "name": "ipython",
    "version": 3
   },
   "file_extension": ".py",
   "mimetype": "text/x-python",
   "name": "python",
   "nbconvert_exporter": "python",
   "pygments_lexer": "ipython3",
   "version": "3.13.5"
  }
 },
 "nbformat": 4,
 "nbformat_minor": 5
}
