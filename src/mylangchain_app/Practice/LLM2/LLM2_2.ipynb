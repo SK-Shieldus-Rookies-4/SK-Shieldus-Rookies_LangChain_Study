{
 "cells": [
  {
   "cell_type": "code",
   "execution_count": null,
   "id": "fc2825fb",
   "metadata": {},
   "outputs": [
    {
     "name": "stdout",
     "output_type": "stream",
     "text": [
      "--- 영화 리뷰 감정 분석기 ---\n",
      "\n",
      "[리뷰]: 이 영화 정말 재미없어요. 시간 낭비였습니다.\n",
      "[감정 분석 결과]: 부정\n",
      "\n",
      "[리뷰]: 배우들의 연기가 훌륭하고 스토리도 감동적이었어요!\n",
      "[감정 분석 결과]: 긍정\n",
      "\n",
      "[리뷰]: 그냥 무난한 영화였습니다. 나쁘지도 좋지도 않아요.\n",
      "[감정 분석 결과]: 보통\n"
     ]
    }
   ],
   "source": [
    "import os\n",
    "from enum import Enum\n",
    "from dotenv import load_dotenv\n",
    "\n",
    "from langchain_openai import ChatOpenAI\n",
    "from langchain_core.prompts import ChatPromptTemplate, PromptTemplate  # <-- Add PromptTemplate here\n",
    "from langchain.output_parsers import EnumOutputParser, OutputFixingParser\n",
    "from langchain.schema import OutputParserException\n",
    "\n",
    "from enum import Enum\n",
    "from pprint import pprint\n",
    "\n",
    "# .env 파일 로드\n",
    "load_dotenv()\n",
    "\n",
    "OPENAI_API_KEY = os.getenv(\"OPENAI_API_KEY\")\n",
    "\n",
    "# 1. 감정 상태를 정의하는 Enum 클래스\n",
    "class Sentiment(Enum):\n",
    "    POSITIVE = \"긍정\"\n",
    "    NEGATIVE = \"부정\"\n",
    "    NEUTRAL = \"보통\"\n",
    "\n",
    "# 2. EnumOutputParser 초기화\n",
    "output_parser = EnumOutputParser(enum=Sentiment)\n",
    "\n",
    "# 3. 모델 초기화\n",
    "llm = ChatOpenAI(\n",
    "    api_key=OPENAI_API_KEY,\n",
    "    base_url=\"https://api.groq.com/openai/v1\",  \n",
    "    model=\"meta-llama/llama-4-scout-17b-16e-instruct\",  \n",
    "    temperature=0.7\n",
    ")\n",
    "\n",
    "# 4. 프롬프트 템플릿 설정\n",
    "prompt = PromptTemplate(\n",
    "    template=\"\"\"영화 리뷰 감정을 세 가지 중 하나로 분류해주세요: 긍정, 부정, 보통.\n",
    "다른 부연 설명 없이, 다음 응답 중 정확히 하나만 출력하세요.\n",
    "리뷰: \"{review}\"\n",
    "{format_instructions}\"\"\",\n",
    "    input_variables=[\"review\"],\n",
    "    partial_variables={\"format_instructions\": output_parser.get_format_instructions()},\n",
    ")\n",
    "\n",
    "# 5. LLMChain 구성 (프롬프트 + 모델)\n",
    "chain = prompt | llm | output_parser\n",
    "\n",
    "# 6. 테스트 리뷰 목록\n",
    "test_reviews = [\n",
    "    \"이 영화 정말 재미없어요. 시간 낭비였습니다.\",\n",
    "    \"배우들의 연기가 훌륭하고 스토리도 감동적이었어요!\",\n",
    "    \"그냥 무난한 영화였습니다. 나쁘지도 좋지도 않아요.\",\n",
    "]\n",
    "\n",
    "# 7. 리뷰에 대해 감정 분석 실행 및 결과 출력\n",
    "print(\"--- 영화 리뷰 감정 분석기 ---\")\n",
    "for review in test_reviews:\n",
    "    print(f\"\\n[리뷰]: {review}\")\n",
    "    try:\n",
    "        # 체인 실행\n",
    "        sentiment = chain.invoke({\"review\": review})\n",
    "        print(f\"[감정 분석 결과]: {sentiment.value}\")\n",
    "    except Exception as e:\n",
    "        print(f\"[분석 실패]: {e}\")"
   ]
  }
 ],
 "metadata": {
  "kernelspec": {
   "display_name": "mylangchain-app-75wTJiYg-py3.13",
   "language": "python",
   "name": "python3"
  },
  "language_info": {
   "codemirror_mode": {
    "name": "ipython",
    "version": 3
   },
   "file_extension": ".py",
   "mimetype": "text/x-python",
   "name": "python",
   "nbconvert_exporter": "python",
   "pygments_lexer": "ipython3",
   "version": "3.13.5"
  }
 },
 "nbformat": 4,
 "nbformat_minor": 5
}
