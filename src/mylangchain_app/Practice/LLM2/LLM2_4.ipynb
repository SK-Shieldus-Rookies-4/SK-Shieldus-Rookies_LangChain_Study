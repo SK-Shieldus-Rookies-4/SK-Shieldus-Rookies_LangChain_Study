{
 "cells": [
  {
   "cell_type": "code",
   "execution_count": 6,
   "id": "03854577",
   "metadata": {},
   "outputs": [
    {
     "name": "stdout",
     "output_type": "stream",
     "text": [
      "--- 여행 후기 분석 결과 ---\n",
      "{\n",
      "    \"destination\": \"부산\",\n",
      "    \"duration\": \"2박 3일\",\n",
      "    \"budget\": \"30만원\",\n",
      "    \"rating\": \"4\",\n",
      "    \"activities\": [\n",
      "        \"해운대 바다구경\",\n",
      "        \"자갈치시장에서 회 먹기\",\n",
      "        \"감천문화마을 구경\"\n",
      "    ]\n",
      "}\n"
     ]
    }
   ],
   "source": [
    "import os\n",
    "import json\n",
    "from dotenv import load_dotenv\n",
    "\n",
    "from langchain_openai import ChatOpenAI\n",
    "from langchain_core.prompts import PromptTemplate\n",
    "from langchain.output_parsers import StructuredOutputParser, ResponseSchema\n",
    "\n",
    "from pprint import pprint\n",
    "\n",
    "# .env 파일 로드\n",
    "load_dotenv()\n",
    "\n",
    "OPENAI_API_KEY = os.getenv(\"OPENAI_API_KEY\")\n",
    "\n",
    "# 1. StructuredOutputParser를 위한 ResponseSchema 정의\n",
    "response_schemas = [\n",
    "    ResponseSchema(name=\"destination\", description=\"여행지 이름\"),\n",
    "    ResponseSchema(name=\"duration\", description=\"여행 기간\"),\n",
    "    ResponseSchema(name=\"budget\", description=\"여행에 사용된 총 예산\"),\n",
    "    ResponseSchema(name=\"rating\", description=\"여행에 대한 만족도 (1점-5점 사이의 숫자)\"), # Added \"숫자\"\n",
    "    ResponseSchema(name=\"activities\", description=\"여행에서 한 주요 활동들을 포함하는 문자열 리스트\") # Added \"문자열 리스트\"\n",
    "]\n",
    "\n",
    "# 2. StructuredOutputParser 초기화\n",
    "output_parser = StructuredOutputParser.from_response_schemas(response_schemas)\n",
    "\n",
    "# 3. 모델 초기화\n",
    "llm = ChatOpenAI(\n",
    "    api_key=OPENAI_API_KEY,\n",
    "    base_url=\"https://api.groq.com/openai/v1\",  \n",
    "    model=\"meta-llama/llama-4-scout-17b-16e-instruct\",  \n",
    "    temperature=0.7\n",
    ")\n",
    "\n",
    "# 4. 프롬프트 템플릿 설정\n",
    "prompt = PromptTemplate(\n",
    "    template=\"\"\"주어진 여행 후기에서 다음 정보를 추출하세요: 여행지, 기간, 예산, 추천도, 주요 활동.\n",
    "{format_instructions}\n",
    "여행 후기: \"{review}\" \"\"\",\n",
    "    input_variables=[\"review\"],\n",
    "    partial_variables={\"format_instructions\": output_parser.get_format_instructions()},\n",
    ")\n",
    "\n",
    "# 5. LLM Chain 구성\n",
    "chain = prompt | llm | output_parser\n",
    "\n",
    "# 6. 테스트 입력\n",
    "input_review = \"지난 주에 부산으로 2박 3일 여행을 다녀왔어요. 총 30만원 정도 썼는데 해운대에서 바다구경하고, 자갈치시장에서 회 먹고, 감천문화마을도 구경했어요. 정말 만족스러운 여행이었습니다. 5점 만점에 4점 정도 줄 수 있을 것 같아요.\"\n",
    "\n",
    "# 7. 실행 및 결과 출력\n",
    "try:\n",
    "    parsed_output = chain.invoke({\"review\": input_review})\n",
    "    print(\"--- 여행 후기 분석 결과 ---\")\n",
    "    print(json.dumps(parsed_output, indent=4, ensure_ascii=False))\n",
    "\n",
    "except Exception as e:\n",
    "    print(f\"정보 추출 실패: {e}\")"
   ]
  }
 ],
 "metadata": {
  "kernelspec": {
   "display_name": "mylangchain-app-75wTJiYg-py3.13",
   "language": "python",
   "name": "python3"
  },
  "language_info": {
   "codemirror_mode": {
    "name": "ipython",
    "version": 3
   },
   "file_extension": ".py",
   "mimetype": "text/x-python",
   "name": "python",
   "nbconvert_exporter": "python",
   "pygments_lexer": "ipython3",
   "version": "3.13.5"
  }
 },
 "nbformat": 4,
 "nbformat_minor": 5
}
