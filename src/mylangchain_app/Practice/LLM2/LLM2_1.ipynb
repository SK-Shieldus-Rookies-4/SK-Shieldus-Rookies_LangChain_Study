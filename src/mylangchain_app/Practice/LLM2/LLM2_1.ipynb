{
 "cells": [
  {
   "cell_type": "code",
   "execution_count": null,
   "id": "bedb7a02",
   "metadata": {},
   "outputs": [
    {
     "name": "stdout",
     "output_type": "stream",
     "text": [
      "음식 관련 장소나 활동 목록:\n",
      "['서울의 한옥마을', '경복궁', '남대문 시장', '부산의 자갈치 시장', '전주 한정마을']\n"
     ]
    }
   ],
   "source": [
    "import os\n",
    "from dotenv import load_dotenv\n",
    "\n",
    "# .env 파일에서 불러오기\n",
    "load_dotenv()\n",
    "\n",
    "from langchain_core.output_parsers import CommaSeparatedListOutputParser\n",
    "from langchain_core.prompts import PromptTemplate\n",
    "from langchain_openai import ChatOpenAI\n",
    "from langchain.chains import LLMChain\n",
    "\n",
    "OPENAI_API_KEY = os.getenv(\"OPENAI_API_KEY\")\n",
    "\n",
    "# 모델 초기화\n",
    "llm = ChatOpenAI(\n",
    "    api_key=OPENAI_API_KEY,\n",
    "    base_url=\"https://api.groq.com/openai/v1\",  # Groq API 엔드포인트\n",
    "    model=\"meta-llama/llama-4-scout-17b-16e-instruct\",  # 원하는 모델 사용\n",
    "    temperature=0.7\n",
    ")\n",
    "\n",
    "# 콤마로 구분된 리스트 출력 파서 초기화\n",
    "output_parser = CommaSeparatedListOutputParser()\n",
    "\n",
    "# 출력 형식 지침 가져오기\n",
    "format_instructions = output_parser.get_format_instructions()\n",
    "\n",
    "# 프롬프트 템플릿\n",
    "prompt = PromptTemplate(\n",
    "    template=\"한국의 유명한 {subject} 관련 장소나 활동 5가지를 나열해주세요.\\n{format_instructions}\",\n",
    "    input_variables=[\"subject\"],\n",
    "    partial_variables={\"format_instructions\": format_instructions},\n",
    ")\n",
    "\n",
    "# LLMChain 생성 (프롬프트 템플릿 + 모델)\n",
    "chain = LLMChain(prompt=prompt, llm=llm)\n",
    "\n",
    "# 사용자 입력 받기 (예: '음식')\n",
    "subject = input(\"관심 있는 분야를 입력하세요 (예: 음식, 스포츠, 영화 등): \")\n",
    "\n",
    "# 체인 실행\n",
    "response = chain.run({\"subject\": subject})\n",
    "\n",
    "# 받은 결과를 콤마 구분 리스트로 파싱\n",
    "parsed_result = output_parser.parse(response)\n",
    "\n",
    "# 결과 출력\n",
    "print(f\"{subject} 관련 장소나 활동 목록:\")\n",
    "print(parsed_result)\n"
   ]
  }
 ],
 "metadata": {
  "kernelspec": {
   "display_name": "mylangchain-app-75wTJiYg-py3.13",
   "language": "python",
   "name": "python3"
  },
  "language_info": {
   "codemirror_mode": {
    "name": "ipython",
    "version": 3
   },
   "file_extension": ".py",
   "mimetype": "text/x-python",
   "name": "python",
   "nbconvert_exporter": "python",
   "pygments_lexer": "ipython3",
   "version": "3.13.5"
  }
 },
 "nbformat": 4,
 "nbformat_minor": 5
}
