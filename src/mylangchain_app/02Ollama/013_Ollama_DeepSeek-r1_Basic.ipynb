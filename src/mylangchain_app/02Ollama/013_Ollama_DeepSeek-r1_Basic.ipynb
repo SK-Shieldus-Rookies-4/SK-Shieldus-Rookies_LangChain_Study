{
 "cells": [
  {
   "cell_type": "markdown",
   "metadata": {},
   "source": [
    "#### 1. 패키지 설치"
   ]
  },
  {
   "cell_type": "code",
   "execution_count": null,
   "metadata": {},
   "outputs": [],
   "source": [
    "# poetry add langchain-ollama"
   ]
  },
  {
   "cell_type": "markdown",
   "metadata": {},
   "source": [
    "#### 로컬 Ollama로 설치한 deepseek-r1:1.5b 모델을 사용하기\n",
    "##### ollama run deepseek-r1:1.5b"
   ]
  },
  {
   "cell_type": "code",
   "execution_count": 6,
   "metadata": {},
   "outputs": [
    {
     "ename": "ModuleNotFoundError",
     "evalue": "No module named 'langchain_community'",
     "output_type": "error",
     "traceback": [
      "\u001b[31m---------------------------------------------------------------------------\u001b[39m",
      "\u001b[31mModuleNotFoundError\u001b[39m                       Traceback (most recent call last)",
      "\u001b[36mCell\u001b[39m\u001b[36m \u001b[39m\u001b[32mIn[6]\u001b[39m\u001b[32m, line 1\u001b[39m\n\u001b[32m----> \u001b[39m\u001b[32m1\u001b[39m \u001b[38;5;28;01mfrom\u001b[39;00m\u001b[38;5;250m \u001b[39m\u001b[34;01mlangchain\u001b[39;00m\u001b[34;01m.\u001b[39;00m\u001b[34;01mllms\u001b[39;00m\u001b[38;5;250m \u001b[39m\u001b[38;5;28;01mimport\u001b[39;00m Ollama\n\u001b[32m      2\u001b[39m \u001b[38;5;28;01mfrom\u001b[39;00m\u001b[38;5;250m \u001b[39m\u001b[34;01mlangchain\u001b[39;00m\u001b[34;01m.\u001b[39;00m\u001b[34;01mprompts\u001b[39;00m\u001b[38;5;250m \u001b[39m\u001b[38;5;28;01mimport\u001b[39;00m PromptTemplate\n\u001b[32m      3\u001b[39m \u001b[38;5;28;01mfrom\u001b[39;00m\u001b[38;5;250m \u001b[39m\u001b[34;01mlangchain\u001b[39;00m\u001b[34;01m.\u001b[39;00m\u001b[34;01mchains\u001b[39;00m\u001b[38;5;250m \u001b[39m\u001b[38;5;28;01mimport\u001b[39;00m LLMChain\n",
      "\u001b[36mFile \u001b[39m\u001b[32m~/Library/Caches/pypoetry/virtualenvs/mylangchain-app-75wTJiYg-py3.13/lib/python3.13/site-packages/langchain/llms/__init__.py:545\u001b[39m, in \u001b[36m__getattr__\u001b[39m\u001b[34m(name)\u001b[39m\n\u001b[32m    544\u001b[39m \u001b[38;5;28;01mdef\u001b[39;00m\u001b[38;5;250m \u001b[39m\u001b[34m__getattr__\u001b[39m(name: \u001b[38;5;28mstr\u001b[39m) -> Any:\n\u001b[32m--> \u001b[39m\u001b[32m545\u001b[39m     \u001b[38;5;28;01mfrom\u001b[39;00m\u001b[38;5;250m \u001b[39m\u001b[34;01mlangchain_community\u001b[39;00m\u001b[38;5;250m \u001b[39m\u001b[38;5;28;01mimport\u001b[39;00m llms\n\u001b[32m    547\u001b[39m     \u001b[38;5;66;03m# If not in interactive env, raise warning.\u001b[39;00m\n\u001b[32m    548\u001b[39m     \u001b[38;5;28;01mif\u001b[39;00m \u001b[38;5;129;01mnot\u001b[39;00m is_interactive_env():\n",
      "\u001b[31mModuleNotFoundError\u001b[39m: No module named 'langchain_community'"
     ]
    }
   ],
   "source": [
    "from langchain.llms import Ollama\n",
    "from langchain.prompts import PromptTemplate\n",
    "from langchain.chains import LLMChain\n",
    "\n",
    "# Ollama를 사용하여 로컬에서 실행 중인 deepseek-r1 모델을 로드\n",
    "llm = Ollama(model=\"deepseek-r1:1.5b\")\n",
    "\n",
    "# 프롬프트 템플릿 정의\n",
    "prompt_template = PromptTemplate(\n",
    "    input_variables=[\"question\"],\n",
    "    template=\"Q: {question}\\nA:\"\n",
    ")\n",
    "\n",
    "# LLMChain 생성\n",
    "chain = LLMChain(llm=llm, prompt=prompt_template)\n",
    "\n",
    "# 질문을 입력하고 모델의 응답을 받음\n",
    "question = \"What is LangChain?\"\n",
    "response = chain.invoke({\"question\": question})\n",
    "\n",
    "# 결과 출력\n",
    "print(type(response))\n",
    "print(response)\n",
    "print(response[\"text\"])"
   ]
  },
  {
   "cell_type": "markdown",
   "metadata": {},
   "source": [
    "##### 최신버전 LangChain에서는 ChatOllama와 RunnableSequence(prompt | llm) 를 사용"
   ]
  },
  {
   "cell_type": "code",
   "execution_count": 3,
   "metadata": {},
   "outputs": [
    {
     "name": "stdout",
     "output_type": "stream",
     "text": [
      "<class 'langchain_core.messages.ai.AIMessage'>\n",
      "content='<think>\\nOkay, the user asked what Python is. I need to explain it clearly.\\n\\nFirst, mention the name \"Python.\" Then, introduce it as a programming language.\\n\\nI should talk about its purpose—it\\'s used for developing applications and processing data.\\n\\nAlso, highlight that it\\'s known for being easy to read and write but powerful in complex areas like machine learning.\\n\\nMake sure to keep it simple and concise without going into too much detail.\\n</think>\\n\\nPython is a high-level programming language and interactive development environment widely used for developing software, processing data, and creating applications. It was created by Dr. Jimmy Ho-Man Oh and first became popular when the developers released it in 1986. Python is known for its simplicity and readability, which makes it accessible to a broad range of users while still being powerful enough for tackling complex computational tasks.\\n\\nHere are some key points about Python:\\n\\n- **Purpose**: It’s primarily used for programming applications, processing data (like text and web content), building models and libraries for machine learning, and automating tasks in the backend.\\n  \\n- ** ease of use**: Despite its complexity, Python\\'s syntax is generally considered very readable and short, which makes it easier for developers to write and understand code.\\n\\n- **Community**: The Python community is quite large, with thousands of developers contributing to open-source projects like PyPI, Scipy, NumPy, and others.\\n\\nSome popular Python packages include:\\n\\n- **Pandas**: For data manipulation and analysis.\\n- **Matplotlib**: For creating visualizations and charts.\\n- **NumPy**: For numerical computations and working with arrays.\\n- **Scikit-learn**: For machine learning tasks like classification and regression.\\n  \\nPython is also used in various fields beyond programming, such as web development, web scraping, and automation.' additional_kwargs={} response_metadata={'model': 'deepseek-r1:1.5b', 'created_at': '2025-09-21T15:00:00.243991Z', 'done': True, 'done_reason': 'stop', 'total_duration': 20940628792, 'load_duration': 886217042, 'prompt_eval_count': 24, 'prompt_eval_duration': 393116916, 'eval_count': 364, 'eval_duration': 19659130667, 'model_name': 'deepseek-r1:1.5b'} id='run--843361ad-d6d4-4c64-9089-13f8f6201c43-0' usage_metadata={'input_tokens': 24, 'output_tokens': 364, 'total_tokens': 388}\n"
     ]
    }
   ],
   "source": [
    "from langchain_ollama import ChatOllama\n",
    "from langchain_core.prompts import ChatPromptTemplate\n",
    "\n",
    "# Ollama를 사용하여 로컬에서 실행 중인 llama3.2 모델 로드\n",
    "llm = ChatOllama(model=\"deepseek-r1:1.5b\")\n",
    "\n",
    "# 프롬프트 템플릿 정의\n",
    "# prompt_template = PromptTemplate.from_template(\"Q: {question}\\nA:\")\n",
    "\n",
    "# 더 정확한 응답을 위한 개선된 프롬프트\n",
    "prompt_template = ChatPromptTemplate.from_messages([\n",
    "    (\"system\", \"You are an AI assistant that provides accurate and detailed answers.\"),\n",
    "    (\"human\", \"Q: {question}\\nA:\")\n",
    "])\n",
    "\n",
    "# 최신 LangChain 방식: RunnableSequence 활용\n",
    "chain = prompt_template | llm\n",
    "\n",
    "# 실행 예시\n",
    "question = \"What is Pyhon?\"\n",
    "response = chain.invoke({\"question\": question})\n",
    "\n",
    "print(type(response))\n",
    "print(response)"
   ]
  },
  {
   "cell_type": "code",
   "execution_count": 4,
   "metadata": {},
   "outputs": [
    {
     "name": "stdout",
     "output_type": "stream",
     "text": [
      "<think>\n",
      "Okay, the user asked what Python is. I need to explain it clearly.\n",
      "\n",
      "First, mention the name \"Python.\" Then, introduce it as a programming language.\n",
      "\n",
      "I should talk about its purpose—it's used for developing applications and processing data.\n",
      "\n",
      "Also, highlight that it's known for being easy to read and write but powerful in complex areas like machine learning.\n",
      "\n",
      "Make sure to keep it simple and concise without going into too much detail.\n",
      "</think>\n",
      "\n",
      "Python is a high-level programming language and interactive development environment widely used for developing software, processing data, and creating applications. It was created by Dr. Jimmy Ho-Man Oh and first became popular when the developers released it in 1986. Python is known for its simplicity and readability, which makes it accessible to a broad range of users while still being powerful enough for tackling complex computational tasks.\n",
      "\n",
      "Here are some key points about Python:\n",
      "\n",
      "- **Purpose**: It’s primarily used for programming applications, processing data (like text and web content), building models and libraries for machine learning, and automating tasks in the backend.\n",
      "  \n",
      "- ** ease of use**: Despite its complexity, Python's syntax is generally considered very readable and short, which makes it easier for developers to write and understand code.\n",
      "\n",
      "- **Community**: The Python community is quite large, with thousands of developers contributing to open-source projects like PyPI, Scipy, NumPy, and others.\n",
      "\n",
      "Some popular Python packages include:\n",
      "\n",
      "- **Pandas**: For data manipulation and analysis.\n",
      "- **Matplotlib**: For creating visualizations and charts.\n",
      "- **NumPy**: For numerical computations and working with arrays.\n",
      "- **Scikit-learn**: For machine learning tasks like classification and regression.\n",
      "  \n",
      "Python is also used in various fields beyond programming, such as web development, web scraping, and automation.\n"
     ]
    }
   ],
   "source": [
    "print(response.content)"
   ]
  },
  {
   "cell_type": "code",
   "execution_count": 5,
   "metadata": {},
   "outputs": [
    {
     "name": "stdout",
     "output_type": "stream",
     "text": [
      "<think>\n",
      "Okay, the user asked, \"파이썬은 무엇인가요?\" which means \"What is Python?\" in Korean. I need to provide a detailed answer.\n",
      "\n",
      "First, I should start by defining Python. It's a programming language, but I should mention its main features. Python is known for being easy to read and write, which makes it popular among beginners. It's open-source and has a large community, which is good for support.\n",
      "\n",
      "Next, I should talk about its uses. Python is used in web development, data analysis, machine learning, automation, and more. Maybe mention some popular frameworks like Django or Flask for web dev. Also, libraries like NumPy, Pandas, Matplotlib for data analysis and visualization.\n",
      "\n",
      "I should mention the syntax, like how it's different from other languages. It uses indentation instead of braces, which is a key point. Also, the \"Pythonic\" way of writing code, which means concise and readable.\n",
      "\n",
      "Include some examples, like a simple \"Hello, World!\" program. That helps the user understand the basics. Maybe mention that Python is interpreted, so you don't need a compiler.\n",
      "\n",
      "I should also note that Python is versatile and can be used for both front-end and back-end development. It's cross-platform, so it works on Windows, macOS, Linux.\n",
      "\n",
      "Wait, did I cover all aspects? Maybe add that it's developed by Guido van Rossum and released in 1991. Mention the versioning system (Python 3.x vs 2.7). Also, the fact that it's widely used in academia and industry.\n",
      "\n",
      "Check if there's anything else. Maybe touch on its philosophy, like \"Readability counts,\" and how it encourages writing code that is easy to understand. Also, the fact that it's a high-level language, which means it abstracts away some of the lower-level details.\n",
      "\n",
      "Make sure the answer is clear and structured. Start with a definition, then key features, uses, syntax, examples, and community. Avoid technical jargon but keep it accurate. Keep it concise but comprehensive.\n",
      "</think>\n",
      "\n",
      "파이썬은 **프로그래밍 언어**입니다. 1991년에 **Guido van Rossum**이 개발한 언어로, **명확하고 읽기 쉽게 작성되는 코드**를 강조하는 **\"Pythonic\"** 문법을 특징으로 합니다. \n",
      "\n",
      "### 주요 특징\n",
      "1. **간결한 문법**:  \n",
      "   - 들여쓰기(Indention) 대괄호(예: `if` 문의 들여쓰기)를 사용하여 코드의 구조를 명확히 합니다.  \n",
      "   - `for`, `while` 등 반복문은 `for` 키워드로 처리됩니다.  \n",
      "\n",
      "2. **다양한 활용 분야**:  \n",
      "   - **웹 개발** (Django, Flask 등 프레임워크 사용)  \n",
      "   - **데이터 분석** (Pandas, NumPy 등 라이브러리 활용)  \n",
      "   - **머신러닝** (Scikit-learn, TensorFlow 등)  \n",
      "   - **자동화** (예: 스크립트로 파일 읽고 쓰기)  \n",
      "   - **그래픽 디자인** (Matplotlib, Pillow 등)  \n",
      "   - **기초 과학 계산** (NumPy, SciPy 등)  \n",
      "\n",
      "3. **고성능 인터프리터**:  \n",
      "   - 코드를 직접 실행할 수 있어 **빠른 개발**이 가능하며, **런타임에 실행**됩니다.  \n",
      "\n",
      "4. **열려 있는 문법**:  \n",
      "   - 오픈소스 프로젝트로, **커뮤니티가 빠르게 업데이트**합니다.  \n",
      "   - 다양한 라이브러리와 패키지(예: `requests`, `pandas`, `matplotlib`)로 확장성 있어요.  \n",
      "\n",
      "5. **다양한 운영 체제 호환성**:  \n",
      "   - Windows, macOS, Linux 등 모든 운영 체제에서 사용 가능합니다.  \n",
      "\n",
      "### 기본 예제\n",
      "```python\n",
      "print(\"Hello, World!\")  # 간단한 프로그램\n",
      "```\n",
      "\n",
      "### 주요 프레임워크/라이브러리\n",
      "- **웹 개발**: Django, Flask  \n",
      "- **데이터 분석**: Pandas, NumPy  \n",
      "- **머신러닝**: Scikit-learn, TensorFlow  \n",
      "- **그래픽**: Matplotlib, Pillow  \n",
      "\n",
      "### 개발자에게는\n",
      "- **학습 용량이 적다** (초보자에게 쉬운 언어)  \n",
      "- **다양한 분야에서 활용 가능** (산업, 교육, 연구 등)  \n",
      "- **커뮤니티가 활발** (문제 해결 및 기술 공유가 용이)  \n",
      "\n",
      "### 주의 사항\n",
      "- **Python 3.x**이 현재 주요 버전으로, **Python 2.x**는 더 이상 지원되지 않습니다.  \n",
      "- **정확한 문법**을 배우는 것이 중요하며, **문자열의 인덱싱**과 **리스트/튜플의 사용**은 핵심 기술입니다.  \n",
      "\n",
      "파이썬은 **명확하고 직관적인 코드로 세계를 바꾸는 언어**입니다. 🐍\n"
     ]
    }
   ],
   "source": [
    "from langchain_ollama import ChatOllama\n",
    "from langchain_core.prompts import ChatPromptTemplate\n",
    "\n",
    "# Ollama를 사용하여 로컬에서 실행 중인 llama3.2 모델 로드\n",
    "llm = ChatOllama(model=\"qwen3:1.7b\")\n",
    "\n",
    "# 더 정확한 응답을 위한 개선된 프롬프트\n",
    "prompt_template = ChatPromptTemplate.from_messages([\n",
    "    (\"system\", \"You are an AI assistant that provides accurate and detailed answers.\"),\n",
    "    (\"human\", \"Q: {question}\\nA:\")\n",
    "])\n",
    "\n",
    "# 최신 LangChain 방식: RunnableSequence 활용\n",
    "chain = prompt_template | llm\n",
    "\n",
    "# 실행 예시\n",
    "question = \"파이썬은 무엇인가요?\"\n",
    "response = chain.invoke({\"question\": question})\n",
    "\n",
    "print(response.content)"
   ]
  }
 ],
 "metadata": {
  "kernelspec": {
   "display_name": "mylangchain-app-75wTJiYg-py3.13",
   "language": "python",
   "name": "python3"
  },
  "language_info": {
   "codemirror_mode": {
    "name": "ipython",
    "version": 3
   },
   "file_extension": ".py",
   "mimetype": "text/x-python",
   "name": "python",
   "nbconvert_exporter": "python",
   "pygments_lexer": "ipython3",
   "version": "3.13.5"
  }
 },
 "nbformat": 4,
 "nbformat_minor": 2
}
