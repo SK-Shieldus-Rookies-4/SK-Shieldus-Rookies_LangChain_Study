{
 "cells": [
  {
   "cell_type": "markdown",
   "id": "DEJbhYzzUZ-K",
   "metadata": {
    "id": "DEJbhYzzUZ-K"
   },
   "source": [
    "## 0. 환경 구성"
   ]
  },
  {
   "cell_type": "markdown",
   "id": "1F5lTDp5UPf0",
   "metadata": {
    "id": "1F5lTDp5UPf0"
   },
   "source": [
    "### 1) 라이브러리 설치"
   ]
  },
  {
   "cell_type": "code",
   "execution_count": null,
   "id": "91e41572",
   "metadata": {},
   "outputs": [],
   "source": [
    "# poetry add langchain_community faiss-cpu"
   ]
  },
  {
   "cell_type": "markdown",
   "id": "55152049-e9e5-4952-8e19-409f58cf3ac9",
   "metadata": {
    "id": "55152049-e9e5-4952-8e19-409f58cf3ac9"
   },
   "source": [
    "### 2) OpenAI 인증키 설정\n",
    "https://openai.com/"
   ]
  },
  {
   "cell_type": "code",
   "execution_count": null,
   "id": "b76f68a8-4745-4377-8057-6090b87377d1",
   "metadata": {
    "id": "b76f68a8-4745-4377-8057-6090b87377d1"
   },
   "outputs": [
    {
     "name": "stdout",
     "output_type": "stream",
     "text": [
      "gsk_t\n"
     ]
    }
   ],
   "source": [
    "from dotenv import load_dotenv\n",
    "import os\n",
    "\n",
    "# .env 파일을 불러와서 환경 변수로 설정\n",
    "load_dotenv(dotenv_path='../.env')\n",
    "\n",
    "OPENAI_API_KEY = os.getenv(\"OPENAI_API_KEY\")\n",
    "print(OPENAI_API_KEY[:5])\n"
   ]
  },
  {
   "cell_type": "code",
   "execution_count": 3,
   "id": "eebafb69",
   "metadata": {},
   "outputs": [],
   "source": [
    "EMBEDDING_MODEL_NAME = \"bge-m3:latest\""
   ]
  },
  {
   "cell_type": "markdown",
   "id": "ad90e845",
   "metadata": {},
   "source": [
    "#### RAG 파이프 라인\n",
    "* Load Data - Text Split - Indexing - Retrieval - Generation\n",
    "* OllamaEmbeddings 사용"
   ]
  },
  {
   "cell_type": "code",
   "execution_count": 8,
   "id": "cefe286d",
   "metadata": {},
   "outputs": [
    {
     "name": "stdout",
     "output_type": "stream",
     "text": [
      "<class 'list'> 1\n",
      "<class 'langchain_core.documents.base.Document'>\n"
     ]
    }
   ],
   "source": [
    "from langchain_openai import ChatOpenAI,OpenAIEmbeddings\n",
    "from langchain.vectorstores import FAISS\n",
    "from langchain.text_splitter import RecursiveCharacterTextSplitter\n",
    "from langchain.document_loaders import TextLoader\n",
    "from langchain_ollama import OllamaEmbeddings\n",
    "\n",
    "from pprint import pprint\n",
    "\n",
    "# 1. Load Data\n",
    "loader = TextLoader(\"../data/taxinfo.txt\", encoding=\"utf-8\")\n",
    "documents = loader.load()\n",
    "print(type(documents), len(documents)) #[Documents, Doicuments]\n",
    "print(type(documents[0]))\n",
    "#print(documents[0])\n"
   ]
  },
  {
   "cell_type": "code",
   "execution_count": 14,
   "id": "16d51ba7",
   "metadata": {},
   "outputs": [
    {
     "name": "stdout",
     "output_type": "stream",
     "text": [
      "12 <class 'list'>\n",
      "page_content='제12조(비과세소득) 다음 각 호의 소득에 대해서는 소득세를 과세하지 아니한다. <개정 2010. 12. 27., 2011. 7. 25., 2011. 9. 15., 2012. 2. 1., 2013. 1. 1., 2013. 3. 22., 2014. 1. 1., 2014. 3. 18., 2014. 12. 23., 2015. 12. 15., 2016. 12. 20., 2018. 3. 20., 2018. 12. 31., 2019. 12. 10., 2019. 12. 31., 2020. 6. 9., 2020. 12. 29., 2022. 8. 12., 2022. 12. 31., 2023. 8. 8., 2023. 12. 31.>\n",
      "1. 「공익신탁법」에 따른 공익신탁의 이익\n",
      "2. 사업소득 중 다음 각 목의 어느 하나에 해당하는 소득\n",
      "    가. 논ㆍ밭을 작물 생산에 이용하게 함으로써 발생하는 소득' metadata={'source': '../data/taxinfo.txt'}\n",
      "두번째 =========================\n",
      "page_content='가. 논ㆍ밭을 작물 생산에 이용하게 함으로써 발생하는 소득\n",
      "    나. 1개의 주택을 소유하는 자의 주택임대소득(제99조에 따른 기준시가가 12억원을 초과하는 주택 및 국외에 소재하는 주택의 임대소득은 제외한다) 또는 해당 과세기간에 대통령령으로 정하는 총수입금액의 합계액이 2천만원 이하인 자의 주택임대소득(2018년 12월 31일 이전에 끝나는 과세기간까지 발생하는 소득으로 한정한다). 이 경우 주택 수의 계산 및 주택임대소득의 산정 등 필요한 사항은 대통령령으로 정한다.\n",
      "    다. 대통령령으로 정하는 농어가부업소득\n",
      "    라. 대통령령으로 정하는 전통주의 제조에서 발생하는 소득\n",
      "    마. 조림기간 5년 이상인 임지(林地)의 임목(林木)의 벌채 또는 양도로 발생하는 소득으로서 연 600만원 이하의 금액. 이 경우 조림기간 및 세액의 계산 등 필요한 사항은 대통령령으로 정한다.\n",
      "    바. 대통령령으로 정하는 작물재배업에서 발생하는 소득' metadata={'source': '../data/taxinfo.txt'}\n"
     ]
    }
   ],
   "source": [
    "\n",
    "# 2️. Text Split\n",
    "splitter = RecursiveCharacterTextSplitter(chunk_size=500, chunk_overlap=50)\n",
    "split_docs = splitter.split_documents(documents)\n",
    "\n",
    "print(len(split_docs), type(split_docs))\n",
    "print(split_docs[0])\n",
    "print(\"두번째 =========================\")\n",
    "print(split_docs[1])\n"
   ]
  },
  {
   "cell_type": "code",
   "execution_count": 15,
   "id": "89395bad",
   "metadata": {},
   "outputs": [],
   "source": [
    "\n",
    "# 3️. Indexing (벡터 저장)\n",
    "embeddings_model = OllamaEmbeddings(model=EMBEDDING_MODEL_NAME)\n",
    "vectorstore = FAISS.from_documents(\n",
    "    documents=split_docs, \n",
    "    embedding=embeddings_model\n",
    ")\n",
    "#vectorstore = FAISS.from_documents(split_docs, OpenAIEmbeddings())\n",
    "\n",
    "# 로컬 파일로 저장\n",
    "vectorstore.save_local(\"faiss_index\")\n"
   ]
  },
  {
   "cell_type": "code",
   "execution_count": 25,
   "id": "bb00647f",
   "metadata": {},
   "outputs": [
    {
     "name": "stdout",
     "output_type": "stream",
     "text": [
      "<class 'langchain_core.vectorstores.base.VectorStoreRetriever'>\n",
      "<class 'list'> 6\n",
      "<class 'langchain_core.documents.base.Document'>\n",
      "page_content='제12조(비과세소득) 다음 각 호의 소득에 대해서는 소득세를 과세하지 아니한다. <개정 2010. 12. 27., 2011. 7. 25., 2011. 9. 15., 2012. 2. 1., 2013. 1. 1., 2013. 3. 22., 2014. 1. 1., 2014. 3. 18., 2014. 12. 23., 2015. 12. 15., 2016. 12. 20., 2018. 3. 20., 2018. 12. 31., 2019. 12. 10., 2019. 12. 31., 2020. 6. 9., 2020. 12. 29., 2022. 8. 12., 2022. 12. 31., 2023. 8. 8., 2023. 12. 31.>\n",
      "1. 「공익신탁법」에 따른 공익신탁의 이익\n",
      "2. 사업소득 중 다음 각 목의 어느 하나에 해당하는 소득\n",
      "    가. 논ㆍ밭을 작물 생산에 이용하게 함으로써 발생하는 소득' metadata={'source': '../data/taxinfo.txt'}\n"
     ]
    }
   ],
   "source": [
    "# 4️. Retrieval (유사 문서 검색) k: 질의와 가장 유사한 문서(청크) 6개를 찾아 반환하기\n",
    "retriever = vectorstore.as_retriever(search_kwargs={\"k\": 6})\n",
    "print(type(retriever))\n",
    "# **질문(쿼리)**에 대해 유사한 문서를 검색하는 역할\n",
    "retrieved_docs = retriever.invoke(\"소득세법에서 비과세소득에 해당하는 소득은 무엇인가요?\")\n",
    "print(type(retrieved_docs), len(retrieved_docs))\n",
    "print(type(retrieved_docs[0]))\n",
    "print(retrieved_docs[0])\n"
   ]
  },
  {
   "cell_type": "code",
   "execution_count": 21,
   "id": "1d6f4c42",
   "metadata": {},
   "outputs": [],
   "source": [
    "\n",
    "# 5️. Generation (LLM 응답 생성)\n",
    "#llm = ChatOpenAI(model=\"gpt-4o-mini\")\n",
    "llm = ChatOpenAI(\n",
    "    base_url=\"https://api.groq.com/openai/v1\",\n",
    "    #model=\"meta-llama/llama-4-scout-17b-16e-instruct\",\n",
    "    model=\"moonshotai/kimi-k2-instruct-0905\",\n",
    "    temperature=0\n",
    ")\n",
    "context = \"\\n\\n\".join([doc.page_content for doc in retrieved_docs])\n",
    "#print(context)\n"
   ]
  },
  {
   "cell_type": "code",
   "execution_count": 22,
   "id": "011bebf2",
   "metadata": {},
   "outputs": [
    {
     "name": "stdout",
     "output_type": "stream",
     "text": [
      "context 적용한 결과\n",
      "('소득세법 제12조(비과세소득)에 따라 소득세를 부과하지 않는 「비과세소득」은 다음과 같이 정리할 수 있습니다. (2023. 12. 31. '\n",
      " '현행 조문 기준)\\n'\n",
      " '\\n'\n",
      " '1. **공익신탁 이익**  \\n'\n",
      " '   - 「공익신탁법」에 따른 공익신탁으로부터 발생하는 이익\\n'\n",
      " '\\n'\n",
      " '2. **사업소득 중 비과세 대상**  \\n'\n",
      " '   - 농지(논·밭)를 작물 생산에 이용하게 해서 생긴 소득  \\n'\n",
      " '   - 1주택자의 주택임대소득(기준시가 12억 초과·국외주택 제외)  \\n'\n",
      " '   - 총수입 2천만 원 이하 주택임대소득(2018 과세기간까지 한정)  \\n'\n",
      " '   - 대통령령이 정하는 농어가부업소득  \\n'\n",
      " '   - 전통주 제조소득  \\n'\n",
      " '   - 조림 5년 이상 임지의 임목 벌채·양도로 생긴 연 600만 원 이하 소득  \\n'\n",
      " '   - 대통령령이 정하는 작물재배업·어로·양식어업 소득\\n'\n",
      " '\\n'\n",
      " '3. **근로·퇴직소득 중 비과세 대상**  \\n'\n",
      " '   - 복무 중 병사 급여  \\n'\n",
      " '   - 법적 동원근로자 급여  \\n'\n",
      " '   - 산재보험 요양·휴업·장해·간병·유족급여 등  \\n'\n",
      " '   - 근로기준법·선원법상 보상금·장의비 등  \\n'\n",
      " '   - 종교인소득 중 학자금·식사대·실비변상성 지급액·월 20만 원 이하 보육지원·사택 제공 이익  \\n'\n",
      " '   - 위원회 위원 등이 받는 수당(보수를 받지 않는 경우)\\n'\n",
      " '\\n'\n",
      " '4. **기타소득 중 비과세 대상**  \\n'\n",
      " '   - 국가유공자·보훈·북한이탈주민 지원금·정착금·보로금  \\n'\n",
      " '   - 국가보안법 상금·보로금  \\n'\n",
      " '   - 상훈법 훈장 부상·상금  \\n'\n",
      " '   - 퇴직 후 직무발명보상금(일정 요건 충족 시)  \\n'\n",
      " '   - 국군포로 위로지원금  \\n'\n",
      " '   - 국지정문화유산 서화·골동품 양도소득  \\n'\n",
      " '   - 박물관·미술관에 서화·골동품 양도소득  \\n'\n",
      " '   - 종교인 기타소득 중 대통령령이 정하는 일시적·실비성 금품\\n'\n",
      " '\\n'\n",
      " '※ 위 항목은 모두 법 조문상 “소득세를 과세하지 아니한다”는 규정이 적용되므로 실제로는 세무상 ‘비과세소득’으로 분류됩니다.')\n",
      "context 적용하지 않은 결과\n",
      "('소득세법에서 **비과세소득**은 말 그대로 **소득세를 부과하지 않는 소득**을 말합니다.  \\n'\n",
      " '이는 소득세법 제12조 및 별표1에 상세히 규정되어 있습니다.\\n'\n",
      " '\\n'\n",
      " '### ✅ 대표적인 비과세소득 예시:\\n'\n",
      " '\\n'\n",
      " '| 소득 유형 | 비과세 사유 |\\n'\n",
      " '|------------|----------------|\\n'\n",
      " '| **국민기초생활보장법에 따른 생계급여** | 공공복지 차원 |\\n'\n",
      " '| **국가유공자 등의 보훈급여** | 보훈 차원 |\\n'\n",
      " '| **장학금** (일정 한도 내) | 교육 지원 목적 |\\n'\n",
      " '| **근로자의 필수경비** (예: 출장비, 식대 등) | 실비변상 성격 |\\n'\n",
      " '| **이자소득** (예: 주택청약종합저축 이자, 장애인전용저축 이자 등) | 일정 조건 충족 시 |\\n'\n",
      " '| **정부보조금** (예: 출산장려금, 육아휴직급여 등) | 정책적 지원 |\\n'\n",
      " '| **종교단체에서 지급하는 종교의례비** | 종교활동 관련 |\\n'\n",
      " '| **농어촌특별세 감면 대상 농업소득** | 농업 지원 목적 |\\n'\n",
      " '\\n'\n",
      " '---\\n'\n",
      " '\\n'\n",
      " '### ⚠️ 주의할 점:\\n'\n",
      " '- **비과세 ≠ 면제세**  \\n'\n",
      " '  비과세는 **세법상 과세대상이 아닌 소득**이고,  \\n'\n",
      " '  면제세는 **과세대상이지만 일정 기간 또는 조건 하에 세금을 면제**해주는 것입니다.\\n'\n",
      " '\\n'\n",
      " '---\\n'\n",
      " '\\n'\n",
      " '필요하시면 **장학금 한도**나 **출장비 한도** 같은 구체적인 기준도 알려드릴 수 있어요.')\n"
     ]
    }
   ],
   "source": [
    "\n",
    "response_context = llm.invoke(f\"소득세법에서 비과세소득에 해당하는 소득은 무엇인가요? 관련 정보: {context}\")\n",
    "print('context 적용한 결과')\n",
    "pprint(response_context.content)\n",
    "\n",
    "response = llm.invoke(f\"소득세법에서 비과세소득에 해당하는 소득은 무엇인가요?\")\n",
    "print('context 적용하지 않은 결과')\n",
    "pprint(response.content)\n"
   ]
  },
  {
   "cell_type": "markdown",
   "id": "1a0d2850",
   "metadata": {},
   "source": [
    "### 개선한 Source - version1\n",
    "* Retriever 검색방법 개선\n",
    "    * search_type=\"mmr\",  # 최대 다양성 검색\n",
    "    * search_kwargs={\"k\": 6, \"fetch_k\": 10}  "
   ]
  },
  {
   "cell_type": "code",
   "execution_count": 27,
   "id": "02b03769",
   "metadata": {},
   "outputs": [
    {
     "name": "stdout",
     "output_type": "stream",
     "text": [
      "개선된 결과:\n",
      "('소득세법 제12조 비과세소득은 5대 유형으로 계층화됩니다.\\n'\n",
      " '\\n'\n",
      " '1. 사업소득(제2호)\\n'\n",
      " '- 논·밭 작물생산 소득(가목)\\n'\n",
      " '- 1주택(12억 이하) 임대소득 또는 연 2천만원 이하 임대소득(나목, 2018과세기한)\\n'\n",
      " '- 농어가부업·전통주제조·작물재배·어로·양식어업 소득(다·라·바·사목)\\n'\n",
      " '- 5년 이상 임지 벌채·양도소득(연 600만원 이하)(마목)\\n'\n",
      " '\\n'\n",
      " '2. 근로·퇴직소득(제3호)\\n'\n",
      " '- 복무중 병 급여, 동원급여(가·나목)\\n'\n",
      " '- 산재보험·근기법 보상금류(다·라목)\\n'\n",
      " '- 고용보험 실업급여·육아급여(마목)\\n'\n",
      " '- 장학금 중 근로대가 장학금(대학생)(서목)\\n'\n",
      " '- 직무발명보상금(월 20만원 한도 출산·보육비 포함)(어목)\\n'\n",
      " '\\n'\n",
      " '3. 연금소득(제4호)\\n'\n",
      " '공적연금 관련법에 따른 유족·장해·상이·순직 등 모든 연금\\n'\n",
      " '\\n'\n",
      " '4. 기타소득(제5호)\\n'\n",
      " '보훈급여, 국가보안법 상금, 훈장부상, 국군포로위로금, 문화재 양도소득, 종교인 학자금·식사대·실비변상·보육비(월 20만원)·사택이익, '\n",
      " '위원수당\\n'\n",
      " '\\n'\n",
      " '5. 공익신탁 이익(제1호)\\n'\n",
      " '「공익신탁법」에 따른 모든 이익')\n"
     ]
    }
   ],
   "source": [
    "\n",
    "from langchain_openai import ChatOpenAI, OpenAIEmbeddings\n",
    "from langchain.vectorstores import FAISS\n",
    "from langchain.text_splitter import RecursiveCharacterTextSplitter\n",
    "from langchain.document_loaders import TextLoader\n",
    "from langchain_ollama import OllamaEmbeddings\n",
    "\n",
    "from pprint import pprint\n",
    "\n",
    "# 1. 데이터 로드 (기존과 동일)\n",
    "loader = TextLoader(\"../data/taxinfo.txt\", encoding=\"utf-8\")\n",
    "documents = loader.load()\n",
    "\n",
    "# 2. 텍스트 분할 개선\n",
    "splitter = RecursiveCharacterTextSplitter(\n",
    "    chunk_size=1000,  # 크기 증가\n",
    "    chunk_overlap=200,\n",
    "    separators=[\"\\n\\n\", \"\\n\", \" \", \"\"],  # 자연스러운 분할을 위한 구분자\n",
    "    length_function=len,\n",
    "    is_separator_regex=False,\n",
    ")\n",
    "split_docs = splitter.split_documents(documents)\n",
    "\n",
    "# 3. 인덱싱 (벡터 저장)\n",
    "embeddings_model = OllamaEmbeddings(model=EMBEDDING_MODEL_NAME)\n",
    "\n",
    "vectorstore = FAISS.from_documents(\n",
    "    documents=split_docs, \n",
    "    embedding=embeddings_model\n",
    ")\n",
    "#vectorstore = FAISS.from_documents(split_docs, OpenAIEmbeddings())\n",
    "\n",
    "vectorstore.save_local(\"faiss_index\")\n",
    "\n",
    "# 4. 검색 개선\n",
    "\"\"\"\n",
    "    최대 다양성 검색(Maximum Marginal Relevance, MMR)\n",
    "    MMR은 유사도가 높은 문서를 찾는 것을 넘어, 유사도와 다양성이라는 두 가지 기준을 모두 고려험\n",
    "    - search_type=\"mmr\": 검색 방식을 MMR로 지정합니다.\n",
    "    - fetch_k: 일차적으로 질의와 유사한 문서 10개를 벡터 저장소에서 가져옵니다.\n",
    "    - k: fetch_k로 가져온 10개의 문서 중에서 최종적으로 6개를 선택합니다. 6개를 선택할 때, MMR 알고리즘은 다음 두 가지를 고려함\n",
    "        : 질의와의 유사도가 높고, 이미 선택된 다른 문서들과의 유사도가 낮은 (즉, 내용이 다양한) 문서\n",
    "    * MMR의 작동 원리:\n",
    "    - 질의와 가장 유사한 fetch_k개(10개)의 문서를 예비 후보군으로 가져옵니다.\n",
    "    - 이 후보군 중에서 질의와 가장 유사한 문서 하나를 첫 번째 결과로 선택합니다.\n",
    "    - 남은 후보군 중에서 질의와의 유사도는 높으면서 (관련성), \n",
    "      이미 선택된 문서들과의 유사도는 낮은 (다양성) 문서를 찾아 다음 결과로 추가함\n",
    "    - 이 과정을 k개(6개)의 문서가 모두 선택될 때까지 반복합니다.        \n",
    "\"\"\"\n",
    "retriever = vectorstore.as_retriever(\n",
    "    search_type=\"mmr\",  # 최대 다양성 검색\n",
    "    search_kwargs={\"k\": 6, \"fetch_k\": 10}  # 더 많은 결과 검색\n",
    ")\n",
    "\n",
    "# 5. 프롬프트 엔지니어링\n",
    "def generate_prompt(query, context):\n",
    "    return f\"\"\"다음은 소득세법 비과세소득 관련 조항입니다. 문맥을 고려하여 질문에 답변하세요.\n",
    "\n",
    "[관련 조항]\n",
    "{context}\n",
    "\n",
    "[질문]\n",
    "{query}\n",
    "\n",
    "[답변 요구사항]\n",
    "- 비과세소득 유형을 계층적으로 구분하여 설명\n",
    "- 각 항목별 구체적인 조건 명시\n",
    "- 법조문의 항, 호, 목 번호를 포함\n",
    "- 500자 이내로 간결하게 요약\"\"\"\n",
    "\n",
    "# 검색 및 응답 생성\n",
    "query = \"소득세법에서 비과세소득에 해당하는 소득은 무엇인가요?\"\n",
    "retrieved_docs = retriever.invoke(query)\n",
    "context = \"\\n\\n\".join([doc.page_content for doc in retrieved_docs])\n",
    "\n",
    "#llm = ChatOpenAI(model=\"gpt-4o-mini\", temperature=0.3)  # 창의성 낮춤\n",
    "llm = ChatOpenAI(\n",
    "    base_url=\"https://api.groq.com/openai/v1\",\n",
    "    #model=\"meta-llama/llama-4-scout-17b-16e-instruct\",\n",
    "    model=\"moonshotai/kimi-k2-instruct-0905\",\n",
    "    temperature=0\n",
    ")\n",
    "response = llm.invoke(generate_prompt(query, context))\n",
    "\n",
    "print('개선된 결과:')\n",
    "pprint(response.content)"
   ]
  },
  {
   "cell_type": "markdown",
   "id": "1737c46e",
   "metadata": {},
   "source": [
    "### 개선한 Source - version2\n",
    "* Prompt 개선"
   ]
  },
  {
   "cell_type": "code",
   "execution_count": null,
   "id": "448ee0a4",
   "metadata": {},
   "outputs": [],
   "source": [
    "from langchain_openai import ChatOpenAI,OpenAIEmbeddings\n",
    "from langchain.vectorstores import FAISS\n",
    "from langchain.text_splitter import RecursiveCharacterTextSplitter\n",
    "from langchain.document_loaders import TextLoader\n",
    "from langchain_ollama import OllamaEmbeddings\n",
    "\n",
    "from pprint import pprint\n",
    "\n",
    "# 1. Load Data\n",
    "loader = TextLoader(\"../data/taxinfo.txt\", encoding=\"utf-8\")\n",
    "documents = loader.load()\n",
    "\n",
    "print(\"=== 원본 문서 길이 ===\")\n",
    "print(f\"전체 문서 길이: {len(documents[0].page_content)} 글자\")\n",
    "\n",
    "# 2. Text Split 개선\n",
    "splitter = RecursiveCharacterTextSplitter(\n",
    "    chunk_size=800,  \n",
    "    chunk_overlap=150,\n",
    "    separators=[\"\\n\\n\", \"\\n\", \". \", \" \", \"\"]  # 법령 구조에 맞는 분리자\n",
    ")\n",
    "split_docs = splitter.split_documents(documents)\n",
    "\n",
    "print(f\"분할된 문서 수: {len(split_docs)}개\")\n",
    "print(\"=== 분할 예시 ===\")\n",
    "for i, doc in enumerate(split_docs[:3]):\n",
    "    print(f\"Chunk {i+1} ({len(doc.page_content)}글자): {doc.page_content[:100]}...\")\n",
    "\n",
    "# 3. Indexing\n",
    "embeddings_model = OllamaEmbeddings(model=EMBEDDING_MODEL_NAME)\n",
    "\n",
    "vectorstore = FAISS.from_documents(\n",
    "    documents=split_docs, \n",
    "    embedding=embeddings_model\n",
    ")\n",
    "\n",
    "#vectorstore = FAISS.from_documents(split_docs, OpenAIEmbeddings())\n",
    "vectorstore.save_local(\"faiss_index\")\n",
    "\n",
    "# 4. Retrieval 개선\n",
    "retriever = vectorstore.as_retriever(\n",
    "    search_type=\"similarity\", \n",
    "    search_kwargs={\"k\": 6}  \n",
    ")\n",
    "\n",
    "query = \"소득세법에서 비과세소득에 해당하는 소득은 무엇인가요?\"\n",
    "retrieved_docs = retriever.invoke(query)\n",
    "\n",
    "print(f\"\\n=== 검색된 문서 ({len(retrieved_docs)}개) ===\")\n",
    "for i, doc in enumerate(retrieved_docs):\n",
    "    print(f\"문서 {i+1}: {doc.page_content[:200]}...\")\n",
    "    print(\"---\")\n",
    "\n",
    "# 5. Generation - 개선된 프롬프트\n",
    "#llm = ChatOpenAI(model=\"gpt-4o-mini\", temperature=0)\n",
    "llm = ChatOpenAI(\n",
    "    base_url=\"https://api.groq.com/openai/v1\",\n",
    "    #model=\"meta-llama/llama-4-scout-17b-16e-instruct\",\n",
    "    model=\"moonshotai/kimi-k2-instruct-0905\",\n",
    "    temperature=0\n",
    ")\n",
    "context = \"\\n\\n\".join([f\"[문서 {i+1}]\\n{doc.page_content}\" for i, doc in enumerate(retrieved_docs)])\n",
    "\n",
    "# 개선된 프롬프트 - 더 구체적인 지시사항\n",
    "improved_prompt = f\"\"\"\n",
    "당신은 세무 전문가입니다. 아래 소득세법 제12조 조항을 바탕으로 질문에 답변해주세요.\n",
    "\n",
    "질문: {query}\n",
    "\n",
    "법령 조항:\n",
    "{context}\n",
    "\n",
    "다음 형식으로 답변해주세요:\n",
    "1. 비과세소득의 정의\n",
    "2. 주요 비과세소득 항목들을 다음과 같이 분류:\n",
    "   - 사업소득 관련\n",
    "   - 근로소득/퇴직소득 관련  \n",
    "   - 연금소득 관련\n",
    "   - 기타소득 관련\n",
    "3. 각 항목별 구체적인 조건이나 한도액 명시\n",
    "\n",
    "답변은 법조문을 인용하면서 구체적으로 작성해주세요.\n",
    "\"\"\"\n",
    "\n",
    "# 비교용 - 기존 방식\n",
    "simple_prompt = f\"소득세법에서 비과세소득에 해당하는 소득은 무엇인가요? 관련 정보: {context}\"\n",
    "\n",
    "print(\"\\n=== 개선된 프롬프트로 답변 ===\")\n",
    "response_improved = llm.invoke(improved_prompt)\n",
    "pprint(response_improved.content)\n",
    "\n",
    "print(\"\\n\" + \"=\"*50)\n",
    "print(\"=== 기존 프롬프트로 답변 ===\")\n",
    "response_simple = llm.invoke(simple_prompt)\n",
    "pprint(response_simple.content)\n",
    "\n",
    "# 추가 개선: 다른 검색 방식 시도\n",
    "print(\"\\n\" + \"=\"*50)\n",
    "print(\"=== 검색 방식 개선 테스트 ===\")\n",
    "\n",
    "# MMR(Maximum Marginal Relevance) 검색 - 다양성 확보\n",
    "retriever_mmr = vectorstore.as_retriever(\n",
    "    search_type=\"mmr\",\n",
    "    search_kwargs={\"k\": 6, \"fetch_k\": 20}\n",
    ")\n",
    "retrieved_docs_mmr = retriever_mmr.invoke(query)\n",
    "context_mmr = \"\\n\\n\".join([f\"[문서 {i+1}]\\n{doc.page_content}\" for i, doc in enumerate(retrieved_docs_mmr)])\n",
    "\n",
    "response_mmr = llm.invoke(f\"\"\"\n",
    "{query}\n",
    "\n",
    "법령 조항 (MMR 검색):\n",
    "{context_mmr}\n",
    "\n",
    "위 법령을 바탕으로 비과세소득 항목들을 체계적으로 정리해주세요.\n",
    "\"\"\")\n",
    "\n",
    "print(\"=== MMR 검색 결과 ===\")\n",
    "pprint(response_mmr.content)"
   ]
  },
  {
   "cell_type": "code",
   "execution_count": null,
   "id": "d2691ee0",
   "metadata": {},
   "outputs": [],
   "source": []
  }
 ],
 "metadata": {
  "colab": {
   "provenance": []
  },
  "kernelspec": {
   "display_name": "mylangchain-app-75wTJiYg-py3.13",
   "language": "python",
   "name": "python3"
  },
  "language_info": {
   "codemirror_mode": {
    "name": "ipython",
    "version": 3
   },
   "file_extension": ".py",
   "mimetype": "text/x-python",
   "name": "python",
   "nbconvert_exporter": "python",
   "pygments_lexer": "ipython3",
   "version": "3.13.5"
  }
 },
 "nbformat": 4,
 "nbformat_minor": 5
}
