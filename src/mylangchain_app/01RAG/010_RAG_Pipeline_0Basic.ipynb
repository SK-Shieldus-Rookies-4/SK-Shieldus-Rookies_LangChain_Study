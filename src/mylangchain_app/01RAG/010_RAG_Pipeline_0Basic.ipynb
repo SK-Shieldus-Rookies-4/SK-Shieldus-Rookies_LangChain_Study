{
 "cells": [
  {
   "cell_type": "markdown",
   "id": "DEJbhYzzUZ-K",
   "metadata": {
    "id": "DEJbhYzzUZ-K"
   },
   "source": [
    "## 0. 환경 구성"
   ]
  },
  {
   "cell_type": "markdown",
   "id": "1F5lTDp5UPf0",
   "metadata": {
    "id": "1F5lTDp5UPf0"
   },
   "source": [
    "### 1) 라이브러리 설치"
   ]
  },
  {
   "cell_type": "code",
   "execution_count": null,
   "id": "91e41572",
   "metadata": {},
   "outputs": [],
   "source": [
    "# poetry add langchain_community faiss-cpu"
   ]
  },
  {
   "cell_type": "markdown",
   "id": "55152049-e9e5-4952-8e19-409f58cf3ac9",
   "metadata": {
    "id": "55152049-e9e5-4952-8e19-409f58cf3ac9"
   },
   "source": [
    "### 2) OpenAI 인증키 설정\n",
    "https://openai.com/"
   ]
  },
  {
   "cell_type": "code",
   "execution_count": null,
   "id": "b76f68a8-4745-4377-8057-6090b87377d1",
   "metadata": {
    "id": "b76f68a8-4745-4377-8057-6090b87377d1"
   },
   "outputs": [
    {
     "name": "stdout",
     "output_type": "stream",
     "text": [
      "gsk_t\n"
     ]
    }
   ],
   "source": [
    "from dotenv import load_dotenv\n",
    "import os\n",
    "\n",
    "# .env 파일을 불러와서 환경 변수로 설정\n",
    "load_dotenv(dotenv_path='../.env')\n",
    "\n",
    "OPENAI_API_KEY = os.getenv(\"OPENAI_API_KEY\")\n",
    "print(OPENAI_API_KEY[:5])\n"
   ]
  },
  {
   "cell_type": "code",
   "execution_count": 3,
   "id": "eebafb69",
   "metadata": {},
   "outputs": [],
   "source": [
    "EMBEDDING_MODEL_NAME = \"bge-m3:latest\""
   ]
  },
  {
   "cell_type": "markdown",
   "id": "ad90e845",
   "metadata": {},
   "source": [
    "#### RAG 파이프 라인\n",
    "* Load Data - Text Split - Indexing - Retrieval - Generation\n",
    "* OllamaEmbeddings 사용"
   ]
  },
  {
   "cell_type": "code",
   "execution_count": 8,
   "id": "cefe286d",
   "metadata": {},
   "outputs": [
    {
     "name": "stdout",
     "output_type": "stream",
     "text": [
      "<class 'list'> 1\n",
      "<class 'langchain_core.documents.base.Document'>\n"
     ]
    }
   ],
   "source": [
    "from langchain_openai import ChatOpenAI,OpenAIEmbeddings\n",
    "from langchain.vectorstores import FAISS\n",
    "from langchain.text_splitter import RecursiveCharacterTextSplitter\n",
    "from langchain.document_loaders import TextLoader\n",
    "from langchain_ollama import OllamaEmbeddings\n",
    "\n",
    "from pprint import pprint\n",
    "\n",
    "# 1. Load Data\n",
    "loader = TextLoader(\"../data/taxinfo.txt\", encoding=\"utf-8\")\n",
    "documents = loader.load()\n",
    "print(type(documents), len(documents)) #[Documents, Doicuments]\n",
    "print(type(documents[0]))\n",
    "#print(documents[0])\n"
   ]
  },
  {
   "cell_type": "code",
   "execution_count": 10,
   "id": "16d51ba7",
   "metadata": {},
   "outputs": [
    {
     "name": "stdout",
     "output_type": "stream",
     "text": [
      "12\n",
      "[Document(metadata={'source': '../data/taxinfo.txt'}, page_content='제12조(비과세소득) 다음 각 호의 소득에 대해서는 소득세를 과세하지 아니한다. <개정 2010. 12. 27., 2011. 7. 25., 2011. 9. 15., 2012. 2. 1., 2013. 1. 1., 2013. 3. 22., 2014. 1. 1., 2014. 3. 18., 2014. 12. 23., 2015. 12. 15., 2016. 12. 20., 2018. 3. 20., 2018. 12. 31., 2019. 12. 10., 2019. 12. 31., 2020. 6. 9., 2020. 12. 29., 2022. 8. 12., 2022. 12. 31., 2023. 8. 8., 2023. 12. 31.>\\n1. 「공익신탁법」에 따른 공익신탁의 이익\\n2. 사업소득 중 다음 각 목의 어느 하나에 해당하는 소득\\n    가. 논ㆍ밭을 작물 생산에 이용하게 함으로써 발생하는 소득'), Document(metadata={'source': '../data/taxinfo.txt'}, page_content='가. 논ㆍ밭을 작물 생산에 이용하게 함으로써 발생하는 소득\\n    나. 1개의 주택을 소유하는 자의 주택임대소득(제99조에 따른 기준시가가 12억원을 초과하는 주택 및 국외에 소재하는 주택의 임대소득은 제외한다) 또는 해당 과세기간에 대통령령으로 정하는 총수입금액의 합계액이 2천만원 이하인 자의 주택임대소득(2018년 12월 31일 이전에 끝나는 과세기간까지 발생하는 소득으로 한정한다). 이 경우 주택 수의 계산 및 주택임대소득의 산정 등 필요한 사항은 대통령령으로 정한다.\\n    다. 대통령령으로 정하는 농어가부업소득\\n    라. 대통령령으로 정하는 전통주의 제조에서 발생하는 소득\\n    마. 조림기간 5년 이상인 임지(林地)의 임목(林木)의 벌채 또는 양도로 발생하는 소득으로서 연 600만원 이하의 금액. 이 경우 조림기간 및 세액의 계산 등 필요한 사항은 대통령령으로 정한다.\\n    바. 대통령령으로 정하는 작물재배업에서 발생하는 소득'), Document(metadata={'source': '../data/taxinfo.txt'}, page_content='바. 대통령령으로 정하는 작물재배업에서 발생하는 소득\\n    사. 대통령령으로 정하는 어로어업 또는 양식어업에서 발생하는 소득\\n3. 근로소득과 퇴직소득 중 다음 각 목의 어느 하나에 해당하는 소득\\n    가. 대통령령으로 정하는 복무 중인 병(兵)이 받는 급여\\n    나. 법률에 따라 동원된 사람이 그 동원 직장에서 받는 급여\\n    다. 「산업재해보상보험법」에 따라 수급권자가 받는 요양급여, 휴업급여, 장해급여, 간병급여, 유족급여, 유족특별급여, 장해특별급여, 장의비 또는 근로의 제공으로 인한 부상ㆍ질병ㆍ사망과 관련하여 근로자나 그 유족이 받는 배상ㆍ보상 또는 위자(慰藉)의 성질이 있는 급여\\n    라. 「근로기준법」 또는 「선원법」에 따라 근로자ㆍ선원 및 그 유족이 받는 요양보상금, 휴업보상금, 상병보상금(傷病補償金), 일시보상금, 장해보상금, 유족보상금, 행방불명보상금, 소지품 유실보상금, 장의비 및 장제비'), Document(metadata={'source': '../data/taxinfo.txt'}, page_content='마. 「고용보험법」에 따라 받는 실업급여, 육아휴직 급여, 육아기 근로시간 단축 급여, 출산전후휴가 급여등, 「제대군인 지원에 관한 법률」에 따라 받는 전직지원금, 「국가공무원법」ㆍ「지방공무원법」에 따른 공무원 또는 「사립학교교직원 연금법」ㆍ「별정우체국법」을 적용받는 사람이 관련 법령에 따라 받는 육아휴직수당(「사립학교법」 제70조의2에 따라 임명된 사무직원이 학교의 정관 또는 규칙에 따라 지급받는 육아휴직수당으로서 대통령령으로 정하는 금액 이하의 것을 포함한다)\\n    바. 「국민연금법」에 따라 받는 반환일시금(사망으로 받는 것만 해당한다) 및 사망일시금'), Document(metadata={'source': '../data/taxinfo.txt'}, page_content='사. 「공무원연금법」, 「공무원 재해보상법」, 「군인연금법」, 「군인 재해보상법」, 「사립학교교직원 연금법」 또는 「별정우체국법」에 따라 받는 공무상요양비ㆍ요양급여ㆍ장해일시금ㆍ비공무상 장해일시금ㆍ비직무상 장해일시금ㆍ장애보상금ㆍ사망조위금ㆍ사망보상금ㆍ유족일시금ㆍ퇴직유족일시금ㆍ유족연금일시금ㆍ퇴직유족연금일시금ㆍ퇴역유족연금일시금ㆍ순직유족연금일시금ㆍ유족연금부가금ㆍ퇴직유족연금부가금ㆍ퇴역유족연금부가금ㆍ유족연금특별부가금ㆍ퇴직유족연금특별부가금ㆍ퇴역유족연금특별부가금ㆍ순직유족보상금ㆍ직무상유족보상금ㆍ위험직무순직유족보상금ㆍ재해부조금ㆍ재난부조금 또는 신체ㆍ정신상의 장해ㆍ질병으로 인한 휴직기간에 받는 급여\\n    아. 대통령령으로 정하는 학자금\\n    자. 대통령령으로 정하는 실비변상적(實費辨償的) 성질의 급여'), Document(metadata={'source': '../data/taxinfo.txt'}, page_content='자. 대통령령으로 정하는 실비변상적(實費辨償的) 성질의 급여\\n    차. 외국정부(외국의 지방자치단체와 연방국가인 외국의 지방정부를 포함한다. 이하 같다) 또는 대통령령으로 정하는 국제기관에서 근무하는 사람으로서 대통령령으로 정하는 사람이 받는 급여. 다만, 그 외국정부가 그 나라에서 근무하는 우리나라 공무원의 급여에 대하여 소득세를 과세하지 아니하는 경우만 해당한다.\\n    카. 「국가유공자 등 예우 및 지원에 관한 법률」 또는 「보훈보상대상자 지원에 관한 법률」에 따라 받는 보훈급여금ㆍ학습보조비\\n    타. 「전직대통령 예우에 관한 법률」에 따라 받는 연금\\n    파. 작전임무를 수행하기 위하여 외국에 주둔 중인 군인ㆍ군무원이 받는 급여\\n    하. 종군한 군인ㆍ군무원이 전사(전상으로 인한 사망을 포함한다. 이하 같다)한 경우 그 전사한 날이 속하는 과세기간의 급여'), Document(metadata={'source': '../data/taxinfo.txt'}, page_content='거. 국외 또는 「남북교류협력에 관한 법률」에 따른 북한지역에서 근로를 제공하고 받는 대통령령으로 정하는 급여\\n    너. 「국민건강보험법」, 「고용보험법」 또는 「노인장기요양보험법」에 따라 국가, 지방자치단체 또는 사용자가 부담하는 보험료\\n    더. 생산직 및 그 관련 직에 종사하는 근로자로서 급여 수준 및 직종 등을 고려하여 대통령령으로 정하는 근로자가 대통령령으로 정하는 연장근로ㆍ야간근로 또는 휴일근로를 하여 받는 급여\\n    러. 근로자가 사내급식이나 이와 유사한 방법으로 제공받는 식사 기타 음식물 또는 근로자(식사 기타 음식물을 제공받지 아니하는 자에 한정한다)가 받는 월 20만원 이하의 식사대\\n    머. 근로자 또는 그 배우자의 출산이나 6세 이하(해당 과세기간 개시일을 기준으로 판단한다) 자녀의 보육과 관련하여 사용자로부터 받는 급여로서 월 20만원 이내의 금액'), Document(metadata={'source': '../data/taxinfo.txt'}, page_content='버. 「국군포로의 송환 및 대우 등에 관한 법률」에 따른 국군포로가 받는 보수 및 퇴직일시금\\n    서. 「교육기본법」 제28조제1항에 따라 받는 장학금 중 대학생이 근로를 대가로 지급받는 장학금(「고등교육법」 제2조제1호부터 제4호까지의 규정에 따른 대학에 재학하는 대학생에 한정한다)\\n    어. 「발명진흥법」 제2조제2호에 따른 직무발명으로 받는 다음의 보상금(이하 “직무발명보상금”이라 한다)으로서 대통령령으로 정하는 금액\\n    \\u3000\\u3000\\u30001) 「발명진흥법」 제2조제2호에 따른 종업원등(이하 이 조, 제20조 및 제21조에서 “종업원등”이라 한다)이 같은 호에 따른 사용자등(이하 이 조에서 “사용자등”이라 한다)으로부터 받는 보상금. 다만, 보상금을 지급한 사용자등과 대통령령으로 정하는 특수관계에 있는 자가 받는 보상금은 제외한다.'), Document(metadata={'source': '../data/taxinfo.txt'}, page_content='2) 대학의 교직원 또는 대학과 고용관계가 있는 학생이 소속 대학에 설치된 「산업교육진흥 및 산학연협력촉진에 관한 법률」 제25조에 따른 산학협력단(이하 이 조에서 “산학협력단”이라 한다)으로부터 같은 법 제32조제1항제4호에 따라 받는 보상금\\n    저. 대통령령으로 정하는 복리후생적 성질의 급여\\n4. 연금소득 중 다음 각 목의 어느 하나에 해당하는 소득\\n    가. 「국민연금법」, 「공무원연금법」 또는 「공무원 재해보상법」, 「군인연금법」 또는 「군인 재해보상법」, 「사립학교교직원 연금법」, 「별정우체국법」 또는 「국민연금과 직역연금의 연계에 관한 법률」(이하 “공적연금 관련법”이라 한다)에 따라 받는 유족연금ㆍ퇴직유족연금ㆍ퇴역유족연금ㆍ장해유족연금ㆍ상이유족연금ㆍ순직유족연금ㆍ직무상유족연금ㆍ위험직무순직유족연금, 장애연금, 장해연금ㆍ비공무상 장해연금ㆍ비직무상 장해연금, 상이연금(傷痍年金), 연계노령유족연금 또는 연계퇴직유족연금\\n    나. 삭제<2013. 1. 1.>'), Document(metadata={'source': '../data/taxinfo.txt'}, page_content='나. 삭제<2013. 1. 1.>\\n    다. 「산업재해보상보험법」에 따라 받는 각종 연금\\n    라. 「국군포로의 송환 및 대우 등에 관한 법률」에 따른 국군포로가 받는 연금\\n    마. 삭제<2013. 1. 1.>\\n5. 기타소득 중 다음 각 목의 어느 하나에 해당하는 소득\\n    가. 「국가유공자 등 예우 및 지원에 관한 법률」 또는 「보훈보상대상자 지원에 관한 법률」에 따라 받는 보훈급여금ㆍ학습보조비 및 「북한이탈주민의 보호 및 정착지원에 관한 법률」에 따라 받는 정착금ㆍ보로금(報勞金)과 그 밖의 금품\\n    나. 「국가보안법」에 따라 받는 상금과 보로금\\n    다. 「상훈법」에 따른 훈장과 관련하여 받는 부상(副賞)이나 그 밖에 대통령령으로 정하는 상금과 부상'), Document(metadata={'source': '../data/taxinfo.txt'}, page_content='라. 종업원등 또는 대학의 교직원이 퇴직한 후에 사용자등 또는 산학협력단으로부터 지급받거나 대학의 학생이 소속 대학에 설치된 산학협력단으로부터 받는 직무발명보상금으로서 대통령령으로 정하는 금액. 다만, 직무발명보상금을 지급한 사용자등 또는 산학협력단과 대통령령으로 정하는 특수관계에 있는 자가 받는 직무발명보상금은 제외한다.\\n    마. 「국군포로의 송환 및 대우 등에 관한 법률」에 따라 국군포로가 받는 위로지원금과 그 밖의 금품\\n    바. 「문화유산의 보존 및 활용에 관한 법률」에 따라 국가지정문화유산으로 지정된 서화ㆍ골동품의 양도로 발생하는 소득\\n    사. 서화ㆍ골동품을 박물관 또는 미술관에 양도함으로써 발생하는 소득\\n    아. 제21조제1항제26호에 따른 종교인소득 중 다음의 어느 하나에 해당하는 소득'), Document(metadata={'source': '../data/taxinfo.txt'}, page_content='아. 제21조제1항제26호에 따른 종교인소득 중 다음의 어느 하나에 해당하는 소득\\n    \\u3000\\u3000\\u3000\\u30001) 「통계법」 제22조에 따라 통계청장이 고시하는 한국표준직업분류에 따른 종교관련종사자(이하 “종교관련종사자”라 한다)가 받는 대통령령으로 정하는 학자금\\n    \\u3000\\u3000\\u3000\\u30002) 종교관련종사자가 받는 대통령령으로 정하는 식사 또는 식사대\\n    \\u3000\\u3000\\u3000\\u30003) 종교관련종사자가 받는 대통령령으로 정하는 실비변상적 성질의 지급액\\n    \\u3000\\u3000\\u3000\\u30004) 종교관련종사자 또는 그 배우자의 출산이나 6세 이하(해당 과세기간 개시일을 기준으로 판단한다) 자녀의 보육과 관련하여 종교단체로부터 받는 금액으로서 월 20만원 이내의 금액\\n    \\u3000\\u3000\\u3000\\u30005) 종교관련종사자가 기획재정부령으로 정하는 사택을 제공받아 얻는 이익\\n    자. 법령ㆍ조례에 따른 위원회 등의 보수를 받지 아니하는 위원(학술원 및 예술원의 회원을 포함한다) 등이 받는 수당')]\n"
     ]
    }
   ],
   "source": [
    "\n",
    "# 2️. Text Split\n",
    "splitter = RecursiveCharacterTextSplitter(chunk_size=500, chunk_overlap=50)\n",
    "split_docs = splitter.split_documents(documents)\n",
    "print(len(split_docs))\n",
    "print(split_docs)\n"
   ]
  },
  {
   "cell_type": "code",
   "execution_count": null,
   "id": "89395bad",
   "metadata": {},
   "outputs": [],
   "source": [
    "\n",
    "# 3️. Indexing (벡터 저장)\n",
    "embeddings_model = OllamaEmbeddings(model=EMBEDDING_MODEL_NAME)\n",
    "vectorstore = FAISS.from_documents(\n",
    "    documents=split_docs, \n",
    "    embedding=embeddings_model\n",
    ")\n",
    "#vectorstore = FAISS.from_documents(split_docs, OpenAIEmbeddings())\n",
    "\n",
    "# 로컬 파일로 저장\n",
    "vectorstore.save_local(\"faiss_index\")\n",
    "\n",
    "# 4️. Retrieval (유사 문서 검색) k: 질의와 가장 유사한 문서(청크) 6개를 찾아 반환하기\n",
    "retriever = vectorstore.as_retriever(search_kwargs={\"k\": 6})\n",
    "# **질문(쿼리)**에 대해 유사한 문서를 검색하는 역할\n",
    "retrieved_docs = retriever.invoke(\"소득세법에서 비과세소득에 해당하는 소득은 무엇인가요?\")\n",
    "#print(retrieved_docs)\n",
    "\n",
    "# 5️. Generation (LLM 응답 생성)\n",
    "#llm = ChatOpenAI(model=\"gpt-4o-mini\")\n",
    "llm = ChatOpenAI(\n",
    "    base_url=\"https://api.groq.com/openai/v1\",\n",
    "    #model=\"meta-llama/llama-4-scout-17b-16e-instruct\",\n",
    "    model=\"moonshotai/kimi-k2-instruct-0905\",\n",
    "    temperature=0\n",
    ")\n",
    "context = \"\\n\\n\".join([doc.page_content for doc in retrieved_docs])\n",
    "#print(context)\n",
    "\n",
    "response_context = llm.invoke(f\"소득세법에서 비과세소득에 해당하는 소득은 무엇인가요? 관련 정보: {context}\")\n",
    "print('context 적용한 결과')\n",
    "pprint(response_context.content)\n",
    "\n",
    "response = llm.invoke(f\"소득세법에서 비과세소득에 해당하는 소득은 무엇인가요?\")\n",
    "print('context 적용하지 않은 결과')\n",
    "pprint(response.content)\n"
   ]
  },
  {
   "cell_type": "markdown",
   "id": "1a0d2850",
   "metadata": {},
   "source": [
    "### 개선한 Source - version1\n",
    "* Retriever 검색방법 개선\n",
    "    * search_type=\"mmr\",  # 최대 다양성 검색\n",
    "    * search_kwargs={\"k\": 6, \"fetch_k\": 10}  "
   ]
  },
  {
   "cell_type": "code",
   "execution_count": null,
   "id": "02b03769",
   "metadata": {},
   "outputs": [],
   "source": [
    "\n",
    "from langchain_openai import ChatOpenAI, OpenAIEmbeddings\n",
    "from langchain.vectorstores import FAISS\n",
    "from langchain.text_splitter import RecursiveCharacterTextSplitter\n",
    "from langchain.document_loaders import TextLoader\n",
    "from langchain_ollama import OllamaEmbeddings\n",
    "\n",
    "from pprint import pprint\n",
    "\n",
    "# 1. 데이터 로드 (기존과 동일)\n",
    "loader = TextLoader(\"../data/taxinfo.txt\", encoding=\"utf-8\")\n",
    "documents = loader.load()\n",
    "\n",
    "# 2. 텍스트 분할 개선\n",
    "splitter = RecursiveCharacterTextSplitter(\n",
    "    chunk_size=1000,  # 크기 증가\n",
    "    chunk_overlap=200,\n",
    "    separators=[\"\\n\\n\", \"\\n\", \" \", \"\"],  # 자연스러운 분할을 위한 구분자\n",
    "    length_function=len,\n",
    "    is_separator_regex=False,\n",
    ")\n",
    "split_docs = splitter.split_documents(documents)\n",
    "\n",
    "# 3. 인덱싱 (벡터 저장)\n",
    "embeddings_model = OllamaEmbeddings(model=EMBEDDING_MODEL_NAME)\n",
    "\n",
    "vectorstore = FAISS.from_documents(\n",
    "    documents=split_docs, \n",
    "    embedding=embeddings_model\n",
    ")\n",
    "#vectorstore = FAISS.from_documents(split_docs, OpenAIEmbeddings())\n",
    "\n",
    "vectorstore.save_local(\"faiss_index\")\n",
    "\n",
    "# 4. 검색 개선\n",
    "\"\"\"\n",
    "    최대 다양성 검색(Maximum Marginal Relevance, MMR)\n",
    "    MMR은 유사도가 높은 문서를 찾는 것을 넘어, 유사도와 다양성이라는 두 가지 기준을 모두 고려험\n",
    "    - search_type=\"mmr\": 검색 방식을 MMR로 지정합니다.\n",
    "    - fetch_k: 일차적으로 질의와 유사한 문서 10개를 벡터 저장소에서 가져옵니다.\n",
    "    - k: fetch_k로 가져온 10개의 문서 중에서 최종적으로 6개를 선택합니다. 6개를 선택할 때, MMR 알고리즘은 다음 두 가지를 고려함\n",
    "        : 질의와의 유사도가 높고, 이미 선택된 다른 문서들과의 유사도가 낮은 (즉, 내용이 다양한) 문서\n",
    "    * MMR의 작동 원리:\n",
    "    - 질의와 가장 유사한 fetch_k개(10개)의 문서를 예비 후보군으로 가져옵니다.\n",
    "    - 이 후보군 중에서 질의와 가장 유사한 문서 하나를 첫 번째 결과로 선택합니다.\n",
    "    - 남은 후보군 중에서 질의와의 유사도는 높으면서 (관련성), \n",
    "      이미 선택된 문서들과의 유사도는 낮은 (다양성) 문서를 찾아 다음 결과로 추가함\n",
    "    - 이 과정을 k개(6개)의 문서가 모두 선택될 때까지 반복합니다.        \n",
    "\"\"\"\n",
    "retriever = vectorstore.as_retriever(\n",
    "    search_type=\"mmr\",  # 최대 다양성 검색\n",
    "    search_kwargs={\"k\": 6, \"fetch_k\": 10}  # 더 많은 결과 검색\n",
    ")\n",
    "\n",
    "# 5. 프롬프트 엔지니어링\n",
    "def generate_prompt(query, context):\n",
    "    return f\"\"\"다음은 소득세법 비과세소득 관련 조항입니다. 문맥을 고려하여 질문에 답변하세요.\n",
    "\n",
    "[관련 조항]\n",
    "{context}\n",
    "\n",
    "[질문]\n",
    "{query}\n",
    "\n",
    "[답변 요구사항]\n",
    "- 비과세소득 유형을 계층적으로 구분하여 설명\n",
    "- 각 항목별 구체적인 조건 명시\n",
    "- 법조문의 항, 호, 목 번호를 포함\n",
    "- 500자 이내로 간결하게 요약\"\"\"\n",
    "\n",
    "# 검색 및 응답 생성\n",
    "query = \"소득세법에서 비과세소득에 해당하는 소득은 무엇인가요?\"\n",
    "retrieved_docs = retriever.invoke(query)\n",
    "context = \"\\n\\n\".join([doc.page_content for doc in retrieved_docs])\n",
    "\n",
    "#llm = ChatOpenAI(model=\"gpt-4o-mini\", temperature=0.3)  # 창의성 낮춤\n",
    "llm = ChatOpenAI(\n",
    "    base_url=\"https://api.groq.com/openai/v1\",\n",
    "    #model=\"meta-llama/llama-4-scout-17b-16e-instruct\",\n",
    "    model=\"moonshotai/kimi-k2-instruct-0905\",\n",
    "    temperature=0\n",
    ")\n",
    "response = llm.invoke(generate_prompt(query, context))\n",
    "\n",
    "print('개선된 결과:')\n",
    "pprint(response.content)"
   ]
  },
  {
   "cell_type": "markdown",
   "id": "1737c46e",
   "metadata": {},
   "source": [
    "### 개선한 Source - version2\n",
    "* Prompt 개선"
   ]
  },
  {
   "cell_type": "code",
   "execution_count": null,
   "id": "448ee0a4",
   "metadata": {},
   "outputs": [],
   "source": [
    "from langchain_openai import ChatOpenAI,OpenAIEmbeddings\n",
    "from langchain.vectorstores import FAISS\n",
    "from langchain.text_splitter import RecursiveCharacterTextSplitter\n",
    "from langchain.document_loaders import TextLoader\n",
    "from langchain_ollama import OllamaEmbeddings\n",
    "\n",
    "from pprint import pprint\n",
    "\n",
    "# 1. Load Data\n",
    "loader = TextLoader(\"../data/taxinfo.txt\", encoding=\"utf-8\")\n",
    "documents = loader.load()\n",
    "\n",
    "print(\"=== 원본 문서 길이 ===\")\n",
    "print(f\"전체 문서 길이: {len(documents[0].page_content)} 글자\")\n",
    "\n",
    "# 2. Text Split 개선\n",
    "splitter = RecursiveCharacterTextSplitter(\n",
    "    chunk_size=800,  \n",
    "    chunk_overlap=150,\n",
    "    separators=[\"\\n\\n\", \"\\n\", \". \", \" \", \"\"]  # 법령 구조에 맞는 분리자\n",
    ")\n",
    "split_docs = splitter.split_documents(documents)\n",
    "\n",
    "print(f\"분할된 문서 수: {len(split_docs)}개\")\n",
    "print(\"=== 분할 예시 ===\")\n",
    "for i, doc in enumerate(split_docs[:3]):\n",
    "    print(f\"Chunk {i+1} ({len(doc.page_content)}글자): {doc.page_content[:100]}...\")\n",
    "\n",
    "# 3. Indexing\n",
    "embeddings_model = OllamaEmbeddings(model=EMBEDDING_MODEL_NAME)\n",
    "\n",
    "vectorstore = FAISS.from_documents(\n",
    "    documents=split_docs, \n",
    "    embedding=embeddings_model\n",
    ")\n",
    "\n",
    "#vectorstore = FAISS.from_documents(split_docs, OpenAIEmbeddings())\n",
    "vectorstore.save_local(\"faiss_index\")\n",
    "\n",
    "# 4. Retrieval 개선\n",
    "retriever = vectorstore.as_retriever(\n",
    "    search_type=\"similarity\", \n",
    "    search_kwargs={\"k\": 6}  \n",
    ")\n",
    "\n",
    "query = \"소득세법에서 비과세소득에 해당하는 소득은 무엇인가요?\"\n",
    "retrieved_docs = retriever.invoke(query)\n",
    "\n",
    "print(f\"\\n=== 검색된 문서 ({len(retrieved_docs)}개) ===\")\n",
    "for i, doc in enumerate(retrieved_docs):\n",
    "    print(f\"문서 {i+1}: {doc.page_content[:200]}...\")\n",
    "    print(\"---\")\n",
    "\n",
    "# 5. Generation - 개선된 프롬프트\n",
    "#llm = ChatOpenAI(model=\"gpt-4o-mini\", temperature=0)\n",
    "llm = ChatOpenAI(\n",
    "    base_url=\"https://api.groq.com/openai/v1\",\n",
    "    #model=\"meta-llama/llama-4-scout-17b-16e-instruct\",\n",
    "    model=\"moonshotai/kimi-k2-instruct-0905\",\n",
    "    temperature=0\n",
    ")\n",
    "context = \"\\n\\n\".join([f\"[문서 {i+1}]\\n{doc.page_content}\" for i, doc in enumerate(retrieved_docs)])\n",
    "\n",
    "# 개선된 프롬프트 - 더 구체적인 지시사항\n",
    "improved_prompt = f\"\"\"\n",
    "당신은 세무 전문가입니다. 아래 소득세법 제12조 조항을 바탕으로 질문에 답변해주세요.\n",
    "\n",
    "질문: {query}\n",
    "\n",
    "법령 조항:\n",
    "{context}\n",
    "\n",
    "다음 형식으로 답변해주세요:\n",
    "1. 비과세소득의 정의\n",
    "2. 주요 비과세소득 항목들을 다음과 같이 분류:\n",
    "   - 사업소득 관련\n",
    "   - 근로소득/퇴직소득 관련  \n",
    "   - 연금소득 관련\n",
    "   - 기타소득 관련\n",
    "3. 각 항목별 구체적인 조건이나 한도액 명시\n",
    "\n",
    "답변은 법조문을 인용하면서 구체적으로 작성해주세요.\n",
    "\"\"\"\n",
    "\n",
    "# 비교용 - 기존 방식\n",
    "simple_prompt = f\"소득세법에서 비과세소득에 해당하는 소득은 무엇인가요? 관련 정보: {context}\"\n",
    "\n",
    "print(\"\\n=== 개선된 프롬프트로 답변 ===\")\n",
    "response_improved = llm.invoke(improved_prompt)\n",
    "pprint(response_improved.content)\n",
    "\n",
    "print(\"\\n\" + \"=\"*50)\n",
    "print(\"=== 기존 프롬프트로 답변 ===\")\n",
    "response_simple = llm.invoke(simple_prompt)\n",
    "pprint(response_simple.content)\n",
    "\n",
    "# 추가 개선: 다른 검색 방식 시도\n",
    "print(\"\\n\" + \"=\"*50)\n",
    "print(\"=== 검색 방식 개선 테스트 ===\")\n",
    "\n",
    "# MMR(Maximum Marginal Relevance) 검색 - 다양성 확보\n",
    "retriever_mmr = vectorstore.as_retriever(\n",
    "    search_type=\"mmr\",\n",
    "    search_kwargs={\"k\": 6, \"fetch_k\": 20}\n",
    ")\n",
    "retrieved_docs_mmr = retriever_mmr.invoke(query)\n",
    "context_mmr = \"\\n\\n\".join([f\"[문서 {i+1}]\\n{doc.page_content}\" for i, doc in enumerate(retrieved_docs_mmr)])\n",
    "\n",
    "response_mmr = llm.invoke(f\"\"\"\n",
    "{query}\n",
    "\n",
    "법령 조항 (MMR 검색):\n",
    "{context_mmr}\n",
    "\n",
    "위 법령을 바탕으로 비과세소득 항목들을 체계적으로 정리해주세요.\n",
    "\"\"\")\n",
    "\n",
    "print(\"=== MMR 검색 결과 ===\")\n",
    "pprint(response_mmr.content)"
   ]
  },
  {
   "cell_type": "code",
   "execution_count": null,
   "id": "d2691ee0",
   "metadata": {},
   "outputs": [],
   "source": []
  }
 ],
 "metadata": {
  "colab": {
   "provenance": []
  },
  "kernelspec": {
   "display_name": "mylangchain-app-75wTJiYg-py3.13",
   "language": "python",
   "name": "python3"
  },
  "language_info": {
   "codemirror_mode": {
    "name": "ipython",
    "version": 3
   },
   "file_extension": ".py",
   "mimetype": "text/x-python",
   "name": "python",
   "nbconvert_exporter": "python",
   "pygments_lexer": "ipython3",
   "version": "3.13.5"
  }
 },
 "nbformat": 4,
 "nbformat_minor": 5
}
